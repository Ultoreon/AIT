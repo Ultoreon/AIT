{
 "cells": [
  {
   "cell_type": "markdown",
   "id": "db3dded3",
   "metadata": {},
   "source": [
    "# Übungsblatt 3 – Angewandte Informationstechnik (Sommersemester 2025)\n",
    "Autor: [Ihr Name]  \n",
    "Abgabedatum: bis zum 02. Mai 2025 um 12 Uhr"
   ]
  },
  {
   "cell_type": "code",
   "execution_count": null,
   "id": "3311da85",
   "metadata": {},
   "outputs": [],
   "source": [
    "import numpy as np\n",
    "import random\n",
    "from itertools import product"
   ]
  },
  {
   "cell_type": "markdown",
   "id": "0d31f385",
   "metadata": {},
   "source": [
    "## Aufgabe 1 – Fibonacci-Folge mit Numpy"
   ]
  },
  {
   "cell_type": "code",
   "execution_count": null,
   "id": "72e1aaf7",
   "metadata": {},
   "outputs": [],
   "source": [
    "def my_fib(fib0=0, fib1=1, anzahl=10):\n",
    "    fib_seq = [fib0, fib1]\n",
    "    for _ in range(anzahl - 2):\n",
    "        fib_seq.append(fib_seq[-1] + fib_seq[-2])\n",
    "    return np.array(fib_seq)\n",
    "\n",
    "# Beispiel\n",
    "my_fib()"
   ]
  },
  {
   "cell_type": "markdown",
   "id": "910641ee",
   "metadata": {},
   "source": [
    "## Aufgabe 2 – Ziffernsumme gleich 9"
   ]
  },
  {
   "cell_type": "code",
   "execution_count": null,
   "id": "4a0f579d",
   "metadata": {},
   "outputs": [],
   "source": [
    "def quersumme_ist_9(limit=1_000_000):\n",
    "    return sum(1 for i in range(limit) if sum(int(z) for z in str(i)) == 9)\n",
    "\n",
    "# Ergebnis:\n",
    "quersumme_ist_9()"
   ]
  },
  {
   "cell_type": "markdown",
   "id": "cf737078",
   "metadata": {},
   "source": [
    "## Aufgabe 3 – Erweiterte Fibonacci-Funktion"
   ]
  },
  {
   "cell_type": "code",
   "execution_count": 1,
   "id": "cf4077a3",
   "metadata": {},
   "outputs": [
    {
     "ename": "NameError",
     "evalue": "name 'np' is not defined",
     "output_type": "error",
     "traceback": [
      "\u001b[1;31m---------------------------------------------------------------------------\u001b[0m",
      "\u001b[1;31mNameError\u001b[0m                                 Traceback (most recent call last)",
      "Cell \u001b[1;32mIn[1], line 9\u001b[0m\n\u001b[0;32m      6\u001b[0m     \u001b[38;5;28;01mreturn\u001b[39;00m np\u001b[38;5;241m.\u001b[39marray(seq[:anzahl])\n\u001b[0;32m      8\u001b[0m \u001b[38;5;66;03m# Beispiel\u001b[39;00m\n\u001b[1;32m----> 9\u001b[0m \u001b[43mmy_advanced_fib\u001b[49m\u001b[43m(\u001b[49m\u001b[43m[\u001b[49m\u001b[38;5;241;43m1\u001b[39;49m\u001b[43m,\u001b[49m\u001b[43m \u001b[49m\u001b[38;5;241;43m1\u001b[39;49m\u001b[43m,\u001b[49m\u001b[43m \u001b[49m\u001b[38;5;241;43m2\u001b[39;49m\u001b[43m,\u001b[49m\u001b[43m \u001b[49m\u001b[38;5;241;43m3\u001b[39;49m\u001b[43m]\u001b[49m\u001b[43m)\u001b[49m\n",
      "Cell \u001b[1;32mIn[1], line 6\u001b[0m, in \u001b[0;36mmy_advanced_fib\u001b[1;34m(startwerte, anzahl)\u001b[0m\n\u001b[0;32m      4\u001b[0m \u001b[38;5;28;01mfor\u001b[39;00m i \u001b[38;5;129;01min\u001b[39;00m \u001b[38;5;28mrange\u001b[39m(\u001b[38;5;28mlen\u001b[39m(startwerte), anzahl):\n\u001b[0;32m      5\u001b[0m     seq[i] \u001b[38;5;241m=\u001b[39m \u001b[38;5;28msum\u001b[39m(seq[i\u001b[38;5;241m-\u001b[39mk:i])\n\u001b[1;32m----> 6\u001b[0m \u001b[38;5;28;01mreturn\u001b[39;00m \u001b[43mnp\u001b[49m\u001b[38;5;241m.\u001b[39marray(seq[:anzahl])\n",
      "\u001b[1;31mNameError\u001b[0m: name 'np' is not defined"
     ]
    }
   ],
   "source": [
    "def my_advanced_fib(startwerte, anzahl=10):\n",
    "    seq = list(startwerte) + [0] * max(0, anzahl - len(startwerte))\n",
    "    k = len(startwerte)\n",
    "    for i in range(len(startwerte), anzahl):\n",
    "        seq[i] = sum(seq[i-k:i])\n",
    "    return np.array(seq[:anzahl])\n",
    "\n",
    "# Beispiel\n",
    "my_advanced_fib([1, 1, 2, 3])"
   ]
  },
  {
   "cell_type": "markdown",
   "id": "2984a305",
   "metadata": {},
   "source": [
    "## Aufgabe 4 – Würfel-Dreifachwürfe (List Comprehension)"
   ]
  },
  {
   "cell_type": "code",
   "execution_count": null,
   "id": "35d084e7",
   "metadata": {},
   "outputs": [],
   "source": [
    "würfe = [(i, j, k) for i in range(1, 7)\n",
    "                   for j in range(i, 7)\n",
    "                   for k in range(j, 7)\n",
    "                   if k != i + j and (i + j + k) < 12]\n",
    "\n",
    "# Beispielausgabe\n",
    "print(f\"Anzahl gültiger Würfe: {len(würfe)}\")\n",
    "würfe[:5]"
   ]
  },
  {
   "cell_type": "markdown",
   "id": "aa8bd4cb",
   "metadata": {},
   "source": [
    "## Aufgabe 5 – Wahrscheinlichkeit für bestimmte Würfelereignisse"
   ]
  },
  {
   "cell_type": "code",
   "execution_count": null,
   "id": "9d8bfaad",
   "metadata": {},
   "outputs": [],
   "source": [
    "def wkeit_mindestens_eine_6(wuerfe=4, versuche=100_000):\n",
    "    return sum(1 for _ in range(versuche) if 6 in [random.randint(1, 6) for _ in range(wuerfe)]) / versuche\n",
    "\n",
    "def wkeit_mindestens_ein_paschs(versuche=100_000):\n",
    "    return sum(1 for _ in range(versuche)\n",
    "               if any((w1 := random.randint(1,6)) == 6 and (w2 := random.randint(1,6)) == 6\n",
    "                      for _ in range(24))) / versuche\n",
    "\n",
    "# Ergebnisse\n",
    "print(\"a) Wahrscheinlichkeit mindestens eine 6:\", wkeit_mindestens_eine_6())\n",
    "print(\"b) Wahrscheinlichkeit mindestens ein 6er-Pasch:\", wkeit_mindestens_ein_paschs())"
   ]
  },
  {
   "cell_type": "markdown",
   "id": "60382a33",
   "metadata": {},
   "source": [
    "## Aufgabe 6 – Lotto-Simulator (6 aus 49)"
   ]
  },
  {
   "cell_type": "code",
   "execution_count": null,
   "id": "b42e30c1",
   "metadata": {},
   "outputs": [],
   "source": [
    "def lotto_simulator(versuche=1_000_000):\n",
    "    seen = set()\n",
    "    for i in range(1, versuche+1):\n",
    "        ziehung = tuple(sorted(random.sample(range(1, 50), 6)))\n",
    "        if ziehung in seen:\n",
    "            return i\n",
    "        seen.add(ziehung)\n",
    "    return -1  # Keine Wiederholung gefunden\n",
    "\n",
    "# Achtung: Dies kann lange dauern!\n",
    "# print(\"Ziehungen bis zur Wiederholung:\", lotto_simulator())"
   ]
  },
  {
   "cell_type": "markdown",
   "id": "be9cd0be",
   "metadata": {},
   "source": [
    "### 📌 Hinweis\n",
    "Die Aufgaben 3 und 6 sind offen gestaltet – eigene Ideen zur Umsetzung und Erweiterung sind willkommen!"
   ]
  }
 ],
 "metadata": {
  "kernelspec": {
   "display_name": "Python 3",
   "language": "python",
   "name": "python3"
  },
  "language_info": {
   "codemirror_mode": {
    "name": "ipython",
    "version": 3
   },
   "file_extension": ".py",
   "mimetype": "text/x-python",
   "name": "python",
   "nbconvert_exporter": "python",
   "pygments_lexer": "ipython3",
   "version": "3.11.9"
  }
 },
 "nbformat": 4,
 "nbformat_minor": 5
}
