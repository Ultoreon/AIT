{
 "cells": [
  {
   "cell_type": "markdown",
   "id": "ff2c0b62",
   "metadata": {},
   "source": [
    "# Aufgabe 2 \n",
    "Erzeugen Sie eine Liste in Python mit den Zahlen von 432.231 bis\n",
    "430.989 absteigend (jeweils nur die ungeraden Zahlen erzeugen) und\n",
    "stellen Sie mittels timeit (analog zum Beispiel aus der Vorlesung) fest,\n",
    "welcher Unterschied sich zwischen + und += beim Aufbau der Liste\n",
    "ergibt.\n",
    "Berechnen Sie anschließend die Summe der Listenelemente mittels\n",
    "einer for-Schleife.\n"
   ]
  },
  {
   "cell_type": "code",
   "execution_count": 29,
   "id": "6b118e2d",
   "metadata": {},
   "outputs": [
    {
     "name": "stdout",
     "output_type": "stream",
     "text": [
      "134 μs ± 5.65 μs per loop (mean ± std. dev. of 7 runs, 10,000 loops each)\n"
     ]
    }
   ],
   "source": [
    "%%timeit\n",
    "\n",
    "x1 = 432231 \n",
    "x2 = 430989 \n",
    "Liste = [] \n",
    "summe = 0\n",
    "\n",
    "for i in range(x1,x2-1, -1):\n",
    "    if i % 2 == 0:\n",
    "        Liste += [i]\n",
    "\n",
    "for i in Liste:\n",
    "    summe += i\n",
    "\n",
    "\n"
   ]
  },
  {
   "cell_type": "code",
   "execution_count": null,
   "id": "a423d561",
   "metadata": {},
   "outputs": [
    {
     "name": "stdout",
     "output_type": "stream",
     "text": [
      "495 μs ± 11.3 μs per loop (mean ± std. dev. of 7 runs, 1,000 loops each)\n"
     ]
    }
   ],
   "source": [
    "%%timeit\n",
    "x1 = 432231 \n",
    "x2 = 430989\n",
    "summe = 0\n",
    "Liste = [] \n",
    "\n",
    "for i in range(x1,x2-1, -1):\n",
    "    if i % 2 == 0:\n",
    "        Liste = Liste + [i]\n",
    "        \n",
    "for i in Liste: \n",
    "    summe = summe + i\n",
    "\n"
   ]
  },
  {
   "cell_type": "markdown",
   "id": "ffe61b20",
   "metadata": {},
   "source": [
    "# Aufgabe 3 \n",
    "Schreiben Sie einen eigenen Vokalbeltrainer (mittels eines\n",
    "Dictionaries)! Umfang und Komfort dieses Programms dürfen Sie\n",
    "selbst bestimmen, je nachdem, welchen Zeitaufwand Sie benötigen\n",
    "(siehe Hinweis ganz am Ende des Übungsblatts)! "
   ]
  },
  {
   "cell_type": "code",
   "execution_count": null,
   "id": "e1a562c1",
   "metadata": {},
   "outputs": [
    {
     "name": "stdout",
     "output_type": "stream",
     "text": [
      "Spanisch:  Por favor\n",
      "Incorrect!\n",
      "The correct answer is:  Bitte\n",
      "End of the vocabulary trainer\n"
     ]
    }
   ],
   "source": [
    "import random\n",
    "\n",
    "Deutsch = [\"Hallo\", \"Tschüss\", \"Ja\", \"Nein\", \"Bitte\", \"Danke\", \"Guten Morgen\", \"Guten Abend\", \"Gute Nacht\", \"Wie geht's?\", \"Mir geht's gut\"]\n",
    "Spanisch = [\"Hola\", \"Adiós\", \"Sí\", \"No\", \"Por favor\", \"Gracias\", \"Buenos días\", \"Buenas tardes\", \"Buenas noches\", \"Cómo estás\", \"Estoy bien\"]\n",
    "\n",
    "dictionary = dict(zip(Spanisch, Deutsch))\n",
    "\n",
    "shuffled_keys = list(dictionary.keys())\n",
    "random.shuffle(shuffled_keys)\n",
    "shuffleddict = {key: dictionary[key] for key in shuffled_keys}\n",
    "\n",
    "if input(\"Enter 's' to start the vocabulary trainer:\"):\n",
    "    for i in shuffleddict:\n",
    "        if input(\"Enter 's' to show the next word:\"):\n",
    "            print(\"Spanisch: \", i)\n",
    "\n",
    "            if input(\"Deutsch:\") == shuffleddict[i]:\n",
    "                print(\"Correct!\")\n",
    "            else:\n",
    "                print(\"Incorrect!\")\n",
    "                print(\"The correct answer is: \", shuffleddict[i])\n",
    "\n",
    "            if input(\"Enter 's' to continue or 'q' to quit:\") == 'q':\n",
    "                break\n",
    "\n",
    "    print(\"End of the vocabulary trainer\")\n"
   ]
  },
  {
   "cell_type": "markdown",
   "id": "8c7ad299",
   "metadata": {},
   "source": [
    "# Aufgabe 4 \n",
    "Geben Sie Python Code an, um alle Ziffern und Buchstaben eines\n",
    "Strings (ohne Leer- oder Sonderzeichen) in absteigender Reihenfolge aufzulisten. \n",
    "a)Zwischen Groß- und Kleinbuchstaben wird unterschieden\n",
    "b)Zwischen Groß- und Kleinbuchstaben wird nicht unterschieden\n"
   ]
  },
  {
   "cell_type": "code",
   "execution_count": null,
   "id": "55a2857b",
   "metadata": {},
   "outputs": [
    {
     "name": "stdout",
     "output_type": "stream",
     "text": [
      "Der Buchstabe s kommt 4 mal vor\n",
      "Der Buchstabe i kommt 4 mal vor\n",
      "Der Buchstabe n kommt 2 mal vor\n",
      "Der Buchstabe t kommt 2 mal vor\n",
      "Der Buchstabe e kommt 2 mal vor\n",
      "Der Buchstabe r kommt 1 mal vor\n",
      "Der Buchstabe S kommt 1 mal vor\n",
      "Der Buchstabe l kommt 1 mal vor\n",
      "Der Buchstabe N kommt 1 mal vor\n",
      "Der Buchstabe k kommt 1 mal vor\n"
     ]
    }
   ],
   "source": [
    "# a)\n",
    "\n",
    "String = \"Nils ist ein Stinker!\"\n",
    "nichtgezählt = {'', ' ', '!', '?', '.', ',', ':', ';', '-', '_', '(', ')', '[', ']', '{', '}', \"'\", '\"'}\n",
    "String = String.replace(\"ß\", \"ss\")\n",
    "Stringlist = list(String)\n",
    "Stringlist.sort()\n",
    "Stringset = set(Stringlist)\n",
    "Stringset.difference_update(nichtgezählt)\n",
    "StringAnzahl = []\n",
    "\n",
    "for i in Stringset:\n",
    "    StringAnzahl.append(Stringlist.count(i))\n",
    "\n",
    "Stringdict = dict(zip(Stringset, StringAnzahl))\n",
    "Stringdict = dict(sorted(Stringdict.items(), key=lambda item: item[1], reverse=True))\n",
    "\n",
    "for key, value in Stringdict.items():\n",
    "    print(\"Der Buchstabe {0} kommt {1} mal vor\".format(key, value))\n"
   ]
  },
  {
   "cell_type": "code",
   "execution_count": null,
   "id": "b5a53411",
   "metadata": {},
   "outputs": [
    {
     "name": "stdout",
     "output_type": "stream",
     "text": [
      "Der Buchstabe I kommt 4 mal vor\n",
      "Der Buchstabe S kommt 3 mal vor\n",
      "Der Buchstabe N kommt 3 mal vor\n",
      "Der Buchstabe T kommt 2 mal vor\n",
      "Der Buchstabe E kommt 2 mal vor\n",
      "Der Buchstabe K kommt 1 mal vor\n",
      "Der Buchstabe L kommt 1 mal vor\n",
      "Der Buchstabe R kommt 1 mal vor\n"
     ]
    }
   ],
   "source": [
    "# b)\n",
    "\n",
    "String = \"Nils ist ein Stinker!\"\n",
    "String = String.upper()\n",
    "nichtgezählt = {'', ' ', '!', '?', '.', ',', ':', ';', '-', '_', '(', ')', '[', ']', '{', '}', \"'\", '\"'}\n",
    "String = String.replace(\"ß\", \"ss\")\n",
    "Stringlist = list(String)\n",
    "Stringlist.sort()\n",
    "Stringset = set(Stringlist)\n",
    "Stringset.difference_update(nichtgezählt)\n",
    "StringAnzahl = []\n",
    "\n",
    "for i in Stringset:\n",
    "    StringAnzahl.append(Stringlist.count(i))\n",
    "\n",
    "Stringdict = dict(zip(Stringset, StringAnzahl))\n",
    "Stringdict = dict(sorted(Stringdict.items(), key=lambda item: item[1], reverse=True))\n",
    "\n",
    "for key, value in Stringdict.items():\n",
    "    print(\"Der Buchstabe {0} kommt {1} mal vor\".format(key, value))"
   ]
  },
  {
   "cell_type": "code",
   "execution_count": null,
   "id": "5d1235d9",
   "metadata": {},
   "outputs": [],
   "source": []
  }
 ],
 "metadata": {
  "kernelspec": {
   "display_name": "Python 3",
   "language": "python",
   "name": "python3"
  },
  "language_info": {
   "codemirror_mode": {
    "name": "ipython",
    "version": 3
   },
   "file_extension": ".py",
   "mimetype": "text/x-python",
   "name": "python",
   "nbconvert_exporter": "python",
   "pygments_lexer": "ipython3",
   "version": "3.11.9"
  }
 },
 "nbformat": 4,
 "nbformat_minor": 5
}
