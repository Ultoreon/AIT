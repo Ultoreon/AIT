{
 "cells": [
  {
   "cell_type": "code",
   "execution_count": 1,
   "id": "8bdd71ee-d2b1-460e-a921-ece56a7c93a4",
   "metadata": {},
   "outputs": [],
   "source": [
    "#Aufgabe 2\n"
   ]
  },
  {
   "cell_type": "code",
   "execution_count": 2,
   "id": "d77991fa-be2e-4be8-9314-e8577528cf91",
   "metadata": {},
   "outputs": [
    {
     "name": "stdout",
     "output_type": "stream",
     "text": [
      "17.1 ns ± 0.232 ns per loop (mean ± std. dev. of 7 runs, 10,000,000 loops each)\n"
     ]
    }
   ],
   "source": [
    "%%timeit i=432231; a=[];\n",
    "while i >430989:\n",
    "    a= a + [i]\n",
    "    i= i-2\n"
   ]
  },
  {
   "cell_type": "code",
   "execution_count": 3,
   "id": "f4c86223-dd36-4e39-b261-d1a53a80584f",
   "metadata": {},
   "outputs": [
    {
     "name": "stdout",
     "output_type": "stream",
     "text": [
      "16.9 ns ± 0.16 ns per loop (mean ± std. dev. of 7 runs, 100,000,000 loops each)\n"
     ]
    }
   ],
   "source": [
    "%%timeit i=432231; a=[];\n",
    "while i >430989:\n",
    "    a+=[i]\n",
    "    i-=2\n"
   ]
  },
  {
   "cell_type": "code",
   "execution_count": 4,
   "id": "838e29cb-f56f-4dfc-8932-b4121f15da2e",
   "metadata": {},
   "outputs": [
    {
     "ename": "NameError",
     "evalue": "name 'a' is not defined",
     "output_type": "error",
     "traceback": [
      "\u001b[1;31m---------------------------------------------------------------------------\u001b[0m",
      "\u001b[1;31mNameError\u001b[0m                                 Traceback (most recent call last)",
      "Cell \u001b[1;32mIn[4], line 1\u001b[0m\n\u001b[1;32m----> 1\u001b[0m \u001b[38;5;28mprint\u001b[39m(\u001b[43ma\u001b[49m)\n",
      "\u001b[1;31mNameError\u001b[0m: name 'a' is not defined"
     ]
    }
   ],
   "source": [
    "print(a)"
   ]
  },
  {
   "cell_type": "code",
   "execution_count": null,
   "id": "c83d6a2b-a41d-4b1f-83ca-6760b2445dfa",
   "metadata": {},
   "outputs": [
    {
     "name": "stdout",
     "output_type": "stream",
     "text": [
      "268030431\n"
     ]
    }
   ],
   "source": [
    "Summe_a=0\n",
    "u=0\n",
    "for u in range (len(a)):\n",
    "    Summe_a+=a[u]\n",
    "    u+=1\n",
    "print(Summe_a)"
   ]
  },
  {
   "cell_type": "code",
   "execution_count": null,
   "id": "fc1dcdbf-fb99-4dd1-9b4a-b824bc04f796",
   "metadata": {},
   "outputs": [
    {
     "name": "stdout",
     "output_type": "stream",
     "text": [
      "Zu übersetzendes Wort: Haus\n"
     ]
    },
    {
     "name": "stdout",
     "output_type": "stream",
     "text": [
      "Übersetzung eingeben: hs\n"
     ]
    },
    {
     "name": "stdout",
     "output_type": "stream",
     "text": [
      "Leider Falsch\n"
     ]
    },
    {
     "name": "stdout",
     "output_type": "stream",
     "text": [
      "'1' für nochmal, '0' zum beenden: 1\n"
     ]
    },
    {
     "name": "stdout",
     "output_type": "stream",
     "text": [
      "Zu übersetzendes Wort: Haus\n"
     ]
    },
    {
     "name": "stdout",
     "output_type": "stream",
     "text": [
      "Übersetzung eingeben: house\n"
     ]
    },
    {
     "name": "stdout",
     "output_type": "stream",
     "text": [
      "Richtig, hier ein neues\n",
      "Zu übersetzendes Wort: Hund\n"
     ]
    },
    {
     "name": "stdout",
     "output_type": "stream",
     "text": [
      "Übersetzung eingeben: dh\n"
     ]
    },
    {
     "name": "stdout",
     "output_type": "stream",
     "text": [
      "Leider Falsch\n"
     ]
    },
    {
     "name": "stdout",
     "output_type": "stream",
     "text": [
      "'1' für nochmal, '0' zum beenden: 1\n"
     ]
    },
    {
     "name": "stdout",
     "output_type": "stream",
     "text": [
      "Zu übersetzendes Wort: Hund\n"
     ]
    },
    {
     "name": "stdout",
     "output_type": "stream",
     "text": [
      "Übersetzung eingeben: dog\n"
     ]
    },
    {
     "name": "stdout",
     "output_type": "stream",
     "text": [
      "Richtig, hier ein neues\n",
      "Zu übersetzendes Wort: Maus\n"
     ]
    },
    {
     "name": "stdout",
     "output_type": "stream",
     "text": [
      "Übersetzung eingeben: hdj\n"
     ]
    },
    {
     "name": "stdout",
     "output_type": "stream",
     "text": [
      "Leider Falsch\n"
     ]
    },
    {
     "name": "stdout",
     "output_type": "stream",
     "text": [
      "'1' für nochmal, '0' zum beenden: 0\n"
     ]
    },
    {
     "name": "stdout",
     "output_type": "stream",
     "text": [
      "Programm beendet\n"
     ]
    }
   ],
   "source": [
    "\n",
    "#Aufgabe 3\n",
    "\n",
    "deutsch_english = {\"Haus\":\"house\",\"Hund\":\"dog\",\"Maus\":\"mouse\",\"Katze\":\"cat\"}\n",
    "keys={1:'Haus', 2:'Hund', 3:'Maus', 4:'Katze'}\n",
    "i=1\n",
    "c=\"\"\n",
    "d=\"\"\n",
    "z=True\n",
    "while i in range(1,len(deutsch_english)+1):\n",
    "    if z!=True:\n",
    "        print(\"Programm beendet\")\n",
    "        break\n",
    "    print(\"Zu übersetzendes Wort:\", keys[i])\n",
    "    c = input(\"Übersetzung eingeben:\")\n",
    "    d=deutsch_english[keys[i]]\n",
    "    if c == d:\n",
    "        print(\"Richtig, hier ein neues\")\n",
    "        i+=1\n",
    "    elif c!=d:\n",
    "        print(\"Leider Falsch\")\n",
    "        u = int(input(\"'1' für nochmal, '0' zum beenden:\"))\n",
    "        if u==1:\n",
    "            z=True\n",
    "        else:\n",
    "            z=False"
   ]
  },
  {
   "cell_type": "code",
   "execution_count": null,
   "id": "d3622427-a5db-4432-a503-ebf01a0fbdfa",
   "metadata": {},
   "outputs": [],
   "source": [
    "\n",
    "#Aufgabe 4\n"
   ]
  },
  {
   "cell_type": "code",
   "execution_count": 5,
   "id": "1da04d06-5cf7-41d9-8193-5d2b822c2055",
   "metadata": {},
   "outputs": [
    {
     "name": "stdout",
     "output_type": "stream",
     "text": [
      "o kommt 3 mal vor\n",
      "t kommt 2 mal vor\n",
      "P kommt 1 mal vor\n",
      "y kommt 1 mal vor\n",
      "h kommt 1 mal vor\n",
      "n kommt 1 mal vor\n",
      "i kommt 1 mal vor\n",
      "s kommt 1 mal vor\n",
      "c kommt 1 mal vor\n",
      "l kommt 1 mal vor\n"
     ]
    }
   ],
   "source": [
    "s= 'Python ist cool'\n",
    "sonder= ' !\"#$%&)))(*§+,-./:;<=>?@[\\\\]^_`{|}~'\n",
    "buchst=[]\n",
    "Anzahl=[]\n",
    "i4=0\n",
    "for i4 in range (len(s)):\n",
    "    i4_1=0\n",
    "    \n",
    "    if len(buchst)==0:\n",
    "        buchst+=s[i4]\n",
    "        i4+=1\n",
    "        Anzahl.append(0)\n",
    "    for i4_1 in range (len(buchst)+1):\n",
    "        if s[i4]==buchst[i4_1-1]:\n",
    "            i4+=1\n",
    "            break\n",
    "        elif i4_1 == len(buchst):\n",
    "            buchst+=s[i4]\n",
    "            Anzahl.append(0)\n",
    "            i4+=1\n",
    "            break\n",
    "        else: \n",
    "            i4_1+=1\n",
    "            \n",
    "i4_3=0\n",
    "for i4_3 in range (len(s)):\n",
    "    i4_4=0\n",
    "    for i4_4 in range (len(buchst)):\n",
    "        if i4_4==len(buchst):\n",
    "            i4_3+=1\n",
    "            break\n",
    "        elif buchst[i4_4]==s[i4_3]:\n",
    "            Anzahl[i4_4]+=1\n",
    "            break\n",
    "        else:\n",
    "            i4_4+=1\n",
    "    i4_3+=1\n",
    "\n",
    "i4_8=0\n",
    "for i4_8 in range (len (buchst)-1):\n",
    "    for i4_9 in range (len (sonder)):\n",
    "        if i4_8> len(buchst)-1:\n",
    "            break\n",
    "        elif buchst[i4_8]==sonder[i4_9]:\n",
    "            buchst.pop(i4_8)\n",
    "            Anzahl.pop(i4_8) \n",
    "            i4_8+=1\n",
    "            break\n",
    "        else:      \n",
    "            i4_9+=1\n",
    "\n",
    "lauf4=0\n",
    "for i4_7 in range (len(buchst)):\n",
    "    lauf4=0\n",
    "    for i4_6 in range (len (buchst)):\n",
    "        if lauf4 > Anzahl[i4_6]:\n",
    "            i4_6+=1\n",
    "        else:\n",
    "            lauf4=Anzahl[i4_6]\n",
    "\n",
    "    for i4_6 in range (len (buchst)):\n",
    "        \n",
    "        if lauf4 == Anzahl[i4_6]: \n",
    "            print (buchst[i4_6], 'kommt', Anzahl[i4_6], 'mal vor')\n",
    "            Anzahl.remove(Anzahl[i4_6])\n",
    "            buchst.remove(buchst[i4_6])\n",
    "            break\n",
    "        else:\n",
    "            i4_6+=1"
   ]
  },
  {
   "cell_type": "code",
   "execution_count": null,
   "id": "544b4d69-19ae-4912-a8e5-dbeba0f247aa",
   "metadata": {},
   "outputs": [],
   "source": [
    "#b)"
   ]
  },
  {
   "cell_type": "code",
   "execution_count": null,
   "id": "690113e5-429d-4c05-83b3-91a1c16a6882",
   "metadata": {},
   "outputs": [
    {
     "name": "stdout",
     "output_type": "stream",
     "text": [
      "E kommt 5 mal vor\n",
      "I kommt 2 mal vor\n",
      "T kommt 2 mal vor\n",
      "N kommt 2 mal vor\n",
      "H kommt 1 mal vor\n",
      "R kommt 1 mal vor\n",
      "X kommt 1 mal vor\n",
      "G kommt 1 mal vor\n",
      "B kommt 1 mal vor\n"
     ]
    }
   ],
   "source": [
    "s= 'hier text eingeben!'\n",
    "s_neu=[]\n",
    "sonder= ' !\"#$%&)))(*§+,-./:;<=>?@[\\\\]^_`{|}~'\n",
    "buchst=[]\n",
    "Anzahl=[]\n",
    "\n",
    "\n",
    "\n",
    "i4_b=0\n",
    "for i4_b in range(len(s)):\n",
    "    i4_b1=0\n",
    "    for i4_b1 in range (25):\n",
    "        if ord(s[i4_b])==ord('a')+i4_b1:\n",
    "            s_neu.append(chr(ord('A')+i4_b1))\n",
    "        elif ord(s[i4_b])==ord('A')+i4_b1: \n",
    "            s_neu.append(s[i4_b])\n",
    "        elif s[i4_b]=='ß':\n",
    "            s_neu.append('S')\n",
    "            s_neu.append('S')\n",
    "            break\n",
    "        else:\n",
    "            i4_b1+=1\n",
    "    i4_b+=1\n",
    "\n",
    "\n",
    "i4=0\n",
    "for i4 in range (len(s_neu)):\n",
    "    i4_1=0\n",
    "    \n",
    "    if len(buchst)==0:\n",
    "        buchst+=s_neu[i4]\n",
    "        i4+=1\n",
    "        Anzahl.append(0)\n",
    "    for i4_1 in range (len(buchst)+1):\n",
    "        if s_neu[i4]==buchst[i4_1-1]:\n",
    "            i4+=1\n",
    "            break\n",
    "        elif i4_1 == len(buchst):\n",
    "            buchst+=s_neu[i4]\n",
    "            Anzahl.append(0)\n",
    "            i4+=1\n",
    "            break\n",
    "        else: \n",
    "            i4_1+=1\n",
    "            \n",
    "i4_3=0\n",
    "for i4_3 in range (len(s_neu)):\n",
    "    i4_4=0\n",
    "    for i4_4 in range (len(buchst)):\n",
    "        if i4_4==len(buchst):\n",
    "            i4_3+=1\n",
    "            break\n",
    "        elif buchst[i4_4]==s_neu[i4_3]:\n",
    "            Anzahl[i4_4]+=1\n",
    "            break\n",
    "        else:\n",
    "            i4_4+=1\n",
    "    i4_3+=1\n",
    "\n",
    "i4_8=0\n",
    "for i4_8 in range (len (buchst)-1):\n",
    "    for i4_9 in range (len (sonder)):\n",
    "        if i4_8> len(buchst)-1:\n",
    "            break\n",
    "        elif buchst[i4_8]==sonder[i4_9]:\n",
    "            buchst.pop(i4_8)\n",
    "            Anzahl.pop(i4_8) \n",
    "            i4_8+=1\n",
    "            break\n",
    "        else:      \n",
    "            i4_9+=1\n",
    "\n",
    "lauf4=0\n",
    "for i4_7 in range (len(buchst)):\n",
    "    lauf4=0\n",
    "    for i4_6 in range (len (buchst)):\n",
    "        if lauf4 > Anzahl[i4_6]:\n",
    "            i4_6+=1\n",
    "        else:\n",
    "            lauf4=Anzahl[i4_6]\n",
    "\n",
    "    for i4_6 in range (len (buchst)):\n",
    "        \n",
    "        if lauf4 == Anzahl[i4_6]: \n",
    "            print (buchst[i4_6], 'kommt', Anzahl[i4_6], 'mal vor')\n",
    "            Anzahl.remove(Anzahl[i4_6])\n",
    "            buchst.remove(buchst[i4_6])\n",
    "            break\n",
    "        else:\n",
    "            i4_6+=1"
   ]
  },
  {
   "cell_type": "code",
   "execution_count": null,
   "id": "b567bf2c-8c47-4cd6-a8c2-a41f13109dfb",
   "metadata": {},
   "outputs": [
    {
     "name": "stdout",
     "output_type": "stream",
     "text": [
      "[[0 1 2 3 4]\n",
      " [5 6 7 8 9]]\n",
      "[2 3 4]\n"
     ]
    }
   ],
   "source": [
    "#Aufgabe 5:\n",
    "#Um Numpy-Arrays umzuformen, bzw in verschiedene Dimensionen zu unterteilen muss man den Namen des Numpy-Arrays mit der Funktion reshape() \n",
    "#aufrufen, in diesen kann man dann, mithilfe von Kommas die Unterteilung aufrufen. \n",
    "#Beim Slicing kann man ein Numpy-Array in mehrere Abschnitte unterteilen, dies geschieht in dem man den Namen des Numpy-Arrays aufruft\n",
    "#und in eckigen Klammern die unterteilung vornimmt, jedoch werden hier Doppelpunkte benutzt. Hierbei werden aber nur die ausgewählten Zahlen ausgegeben.\n",
    "#Besispiele:\n",
    "\n",
    "import numpy as np\n",
    "a=range(10)\n",
    "b=np.array(a)\n",
    "\n",
    "print(b.reshape(2,5)) # Ausgabe der Werte 2-5\n",
    "\n",
    "b\n",
    "print(b[2:5]) "
   ]
  },
  {
   "cell_type": "code",
   "execution_count": null,
   "id": "3af77e63-11b5-4236-b48e-b577f9c07e60",
   "metadata": {},
   "outputs": [],
   "source": [
    "np.random.seed(42)\n",
    "a=np.random.randint(0,10,100)\n",
    "b=a[a<6].reshape(17,3)\n",
    "# b hat dann die Form von 17 einzelnen Sparten mit jeweils 3 Werten"
   ]
  },
  {
   "cell_type": "code",
   "execution_count": 1,
   "id": "9e745b38-8955-45cb-ae07-ff8f0fd1d692",
   "metadata": {},
   "outputs": [
    {
     "name": "stdout",
     "output_type": "stream",
     "text": [
      "Verschlüsselter Text: WXSG NLI SWS DAOFYXMH\n"
     ]
    }
   ],
   "source": [
    "#Aufg.7\n",
    "\n",
    "#a)\n",
    "text='DIES IST EIN KLARTEXT'\n",
    "passwort='SONNE'\n",
    "verschlüsselt='' \n",
    "\n",
    "i7=0\n",
    "i7_1=0\n",
    "\n",
    "for i7 in range(len(text)):\n",
    "    s=ord(text[i7])\n",
    "    \n",
    "    if chr(s)== ' ':\n",
    "        verschlüsselt+=' '\n",
    "        i7+=1\n",
    "    elif chr(s)== '.':\n",
    "        verschlüsselt+='.'\n",
    "        i7+=1 \n",
    "    elif chr(s)== ',':\n",
    "        verschlüsselt+=','\n",
    "        i7+=1\n",
    "        \n",
    "    else:\n",
    "        s+=ord(passwort[i7_1%len(passwort)])+1\n",
    "        if s>90:\n",
    "            s = s%26 + 65\n",
    "            verschlüsselt+=chr(s)\n",
    "        i7_1+=1\n",
    "    \n",
    "print ('Verschlüsselter Text:', verschlüsselt) "
   ]
  },
  {
   "cell_type": "code",
   "execution_count": null,
   "id": "3d2691e5-ca0b-4113-af3a-607eb91025c8",
   "metadata": {},
   "outputs": [
    {
     "data": {
      "text/plain": [
       "-147"
      ]
     },
     "execution_count": 103,
     "metadata": {},
     "output_type": "execute_result"
    }
   ],
   "source": [
    "65-90-122"
   ]
  },
  {
   "cell_type": "code",
   "execution_count": null,
   "id": "90d44b9f-45b0-4ecc-9594-14140b41196b",
   "metadata": {},
   "outputs": [
    {
     "name": "stdout",
     "output_type": "stream",
     "text": [
      "entschlüsselter Text: PYTHON MACHT SPASS\n"
     ]
    }
   ],
   "source": [
    "#b)\n",
    "text=''\n",
    "passwort='PASSWORT'\n",
    "verschlüsselt='fzmalc eusim lmpkm' \n",
    "verschlüsselt=verschlüsselt.upper()\n",
    "\n",
    "i7=0\n",
    "i7_1=0\n",
    "\n",
    "for i7 in range(len(verschlüsselt)):\n",
    "    s=ord(verschlüsselt[i7])\n",
    "    if chr(s)== ' ':\n",
    "        text+=' '\n",
    "        i7+=1\n",
    "    elif chr(s)== '.':\n",
    "        text+='.'\n",
    "        i7+=1 \n",
    "    elif chr(s)== ',':\n",
    "        text+=','\n",
    "        i7+=1\n",
    "       \n",
    "    else:\n",
    "        s-=ord(passwort[i7_1%len(passwort)])+1\n",
    "        if s<65:\n",
    "            s = s%26 + 65\n",
    "            text+=chr(s)\n",
    "        i7_1+=1\n",
    "print ('entschlüsselter Text:', text) "
   ]
  },
  {
   "cell_type": "code",
   "execution_count": 2,
   "id": "6ba612df-20de-43a6-b35f-3842eb491ecf",
   "metadata": {},
   "outputs": [
    {
     "name": "stdout",
     "output_type": "stream",
     "text": [
      "PASSWORTPASSWORT\n"
     ]
    }
   ],
   "source": [
    "text='PYTHON MACHT SPASS'\n",
    "passwort=''\n",
    "pw_ganz=''\n",
    "verschlüsselt='fzmalc eusim lmpkm'\n",
    "verschlüsselt=verschlüsselt.upper()\n",
    "\n",
    "i7=0\n",
    "\n",
    "for i7 in range (len(text)):\n",
    "    g=ord(text[i7])\n",
    "    if chr(g)== ' ':\n",
    "        i7+=1\n",
    "    elif chr(g)== '.':\n",
    "        i7+=1 \n",
    "    elif chr(g)== ',':\n",
    "        i7+=1\n",
    "    else:\n",
    "        g=ord(verschlüsselt[i7])-ord(text[i7])\n",
    "    \n",
    "        if g<65:\n",
    "            g=g%26 + 65\n",
    "\n",
    "        pw_ganz+=chr(g-1)\n",
    "    \n",
    "print (pw_ganz)\n",
    "\n",
    "\n",
    "\n",
    "\n",
    "\n"
   ]
  },
  {
   "cell_type": "code",
   "execution_count": null,
   "id": "3943451f-ced9-417f-bf84-a1b21ba49a52",
   "metadata": {},
   "outputs": [],
   "source": [
    "text=''\n",
    "wahrsch_text='MACHT'\n",
    "passwort=''\n",
    "pw_ganz=''\n",
    "verschlüsselt='fzmalc eusim lmpkm'\n",
    "verschlüsselt=verschlüsselt.upper()\n",
    "\n",
    "i7=0\n",
    "\n",
    "for i7 in range (len(verschlüsselt)):\n",
    "    g=ord(text[i7])\n",
    "    if chr(g)== ' ':\n",
    "        i7+=1\n",
    "    elif chr(g)== '.':\n",
    "        i7+=1 \n",
    "    elif chr(g)== ',':\n",
    "        i7+=1\n",
    "    else:\n",
    "        g=ord(verschlüsselt[i7])-ord(text[i7])\n",
    "    \n",
    "        if g<65:\n",
    "            g=g%26 + 65\n",
    "\n",
    "        pw_ganz+=chr(g-1)\n",
    "    \n",
    "print (pw_ganz)\n"
   ]
  },
  {
   "cell_type": "code",
   "execution_count": null,
   "id": "3f498dbd-f106-4f4c-82c8-75def6bdda7c",
   "metadata": {},
   "outputs": [
    {
     "name": "stdout",
     "output_type": "stream",
     "text": [
      "Keyword Length 1: fzmalc eusim lmpkm\n",
      "Keyword Length 2: fymzlb etshm kmokl\n",
      "Keyword Length 3: fykaka etqil jmoim\n",
      "Keyword Length 4: fykxlb crshk imoij\n",
      "Keyword Length 5: fykxhc dspem kkmgm\n",
      "Keyword Length 6: fykxhx etqfi gmoij\n",
      "Keyword Length 7: fykxhx yurgj hhjkl\n",
      "Keyword Length 8: fykxhx ynshk iikef\n",
      "Keyword Length 9: fykxhx ynkil jjlfg\n",
      "Keyword Length 10: fykxhx ynkzm kkmgh\n"
     ]
    }
   ],
   "source": [
    "#aufgabe 7 c)\n",
    "#Keine Ahnung, wie ich dies realisieren soll, ohne angabe von der Länge des Passwortes.\n",
    "#Ich hatte die Idee, einen Algorithmus zu schreiben, der nach dem Schlüsselwort sucht, indem er jedes Wort nach und nach mit Vigenere entschlüsselt,\n",
    "#und guckt, ob das Wort rauskommt. Dies ist für mich auch in der vorgegebenen Zeit leider nicht realisierbar."
   ]
  },
  {
   "cell_type": "code",
   "execution_count": null,
   "id": "ade7493b-1855-4b0d-89c1-29d791740a64",
   "metadata": {},
   "outputs": [],
   "source": []
  }
 ],
 "metadata": {
  "kernelspec": {
   "display_name": "Python 3",
   "language": "python",
   "name": "python3"
  },
  "language_info": {
   "codemirror_mode": {
    "name": "ipython",
    "version": 3
   },
   "file_extension": ".py",
   "mimetype": "text/x-python",
   "name": "python",
   "nbconvert_exporter": "python",
   "pygments_lexer": "ipython3",
   "version": "3.11.9"
  }
 },
 "nbformat": 4,
 "nbformat_minor": 5
}
