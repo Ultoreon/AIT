{
 "cells": [
  {
   "cell_type": "code",
   "execution_count": null,
   "id": "8bdd71ee-d2b1-460e-a921-ece56a7c93a4",
   "metadata": {},
   "outputs": [],
   "source": [
    "#Aufgabe 2\n"
   ]
  },
  {
   "cell_type": "code",
   "execution_count": 36,
   "id": "d77991fa-be2e-4be8-9314-e8577528cf91",
   "metadata": {},
   "outputs": [
    {
     "name": "stdout",
     "output_type": "stream",
     "text": [
      "51.1 ns ± 1.82 ns per loop (mean ± std. dev. of 7 runs, 10,000,000 loops each)\n"
     ]
    }
   ],
   "source": [
    "%%timeit i=432231; a=[];\n",
    "while i >430989:\n",
    "    a= a + [i]\n",
    "    i= i-2\n"
   ]
  },
  {
   "cell_type": "code",
   "execution_count": 38,
   "id": "f4c86223-dd36-4e39-b261-d1a53a80584f",
   "metadata": {},
   "outputs": [
    {
     "name": "stdout",
     "output_type": "stream",
     "text": [
      "51.9 ns ± 0.927 ns per loop (mean ± std. dev. of 7 runs, 10,000,000 loops each)\n"
     ]
    }
   ],
   "source": [
    "%%timeit i=432231; a=[];\n",
    "while i >430989:\n",
    "    a+=[i]\n",
    "    i-=2\n"
   ]
  },
  {
   "cell_type": "code",
   "execution_count": 39,
   "id": "838e29cb-f56f-4dfc-8932-b4121f15da2e",
   "metadata": {},
   "outputs": [
    {
     "name": "stdout",
     "output_type": "stream",
     "text": [
      "[432231, 432229, 432227, 432225, 432223, 432221, 432219, 432217, 432215, 432213, 432211, 432209, 432207, 432205, 432203, 432201, 432199, 432197, 432195, 432193, 432191, 432189, 432187, 432185, 432183, 432181, 432179, 432177, 432175, 432173, 432171, 432169, 432167, 432165, 432163, 432161, 432159, 432157, 432155, 432153, 432151, 432149, 432147, 432145, 432143, 432141, 432139, 432137, 432135, 432133, 432131, 432129, 432127, 432125, 432123, 432121, 432119, 432117, 432115, 432113, 432111, 432109, 432107, 432105, 432103, 432101, 432099, 432097, 432095, 432093, 432091, 432089, 432087, 432085, 432083, 432081, 432079, 432077, 432075, 432073, 432071, 432069, 432067, 432065, 432063, 432061, 432059, 432057, 432055, 432053, 432051, 432049, 432047, 432045, 432043, 432041, 432039, 432037, 432035, 432033, 432031, 432029, 432027, 432025, 432023, 432021, 432019, 432017, 432015, 432013, 432011, 432009, 432007, 432005, 432003, 432001, 431999, 431997, 431995, 431993, 431991, 431989, 431987, 431985, 431983, 431981, 431979, 431977, 431975, 431973, 431971, 431969, 431967, 431965, 431963, 431961, 431959, 431957, 431955, 431953, 431951, 431949, 431947, 431945, 431943, 431941, 431939, 431937, 431935, 431933, 431931, 431929, 431927, 431925, 431923, 431921, 431919, 431917, 431915, 431913, 431911, 431909, 431907, 431905, 431903, 431901, 431899, 431897, 431895, 431893, 431891, 431889, 431887, 431885, 431883, 431881, 431879, 431877, 431875, 431873, 431871, 431869, 431867, 431865, 431863, 431861, 431859, 431857, 431855, 431853, 431851, 431849, 431847, 431845, 431843, 431841, 431839, 431837, 431835, 431833, 431831, 431829, 431827, 431825, 431823, 431821, 431819, 431817, 431815, 431813, 431811, 431809, 431807, 431805, 431803, 431801, 431799, 431797, 431795, 431793, 431791, 431789, 431787, 431785, 431783, 431781, 431779, 431777, 431775, 431773, 431771, 431769, 431767, 431765, 431763, 431761, 431759, 431757, 431755, 431753, 431751, 431749, 431747, 431745, 431743, 431741, 431739, 431737, 431735, 431733, 431731, 431729, 431727, 431725, 431723, 431721, 431719, 431717, 431715, 431713, 431711, 431709, 431707, 431705, 431703, 431701, 431699, 431697, 431695, 431693, 431691, 431689, 431687, 431685, 431683, 431681, 431679, 431677, 431675, 431673, 431671, 431669, 431667, 431665, 431663, 431661, 431659, 431657, 431655, 431653, 431651, 431649, 431647, 431645, 431643, 431641, 431639, 431637, 431635, 431633, 431631, 431629, 431627, 431625, 431623, 431621, 431619, 431617, 431615, 431613, 431611, 431609, 431607, 431605, 431603, 431601, 431599, 431597, 431595, 431593, 431591, 431589, 431587, 431585, 431583, 431581, 431579, 431577, 431575, 431573, 431571, 431569, 431567, 431565, 431563, 431561, 431559, 431557, 431555, 431553, 431551, 431549, 431547, 431545, 431543, 431541, 431539, 431537, 431535, 431533, 431531, 431529, 431527, 431525, 431523, 431521, 431519, 431517, 431515, 431513, 431511, 431509, 431507, 431505, 431503, 431501, 431499, 431497, 431495, 431493, 431491, 431489, 431487, 431485, 431483, 431481, 431479, 431477, 431475, 431473, 431471, 431469, 431467, 431465, 431463, 431461, 431459, 431457, 431455, 431453, 431451, 431449, 431447, 431445, 431443, 431441, 431439, 431437, 431435, 431433, 431431, 431429, 431427, 431425, 431423, 431421, 431419, 431417, 431415, 431413, 431411, 431409, 431407, 431405, 431403, 431401, 431399, 431397, 431395, 431393, 431391, 431389, 431387, 431385, 431383, 431381, 431379, 431377, 431375, 431373, 431371, 431369, 431367, 431365, 431363, 431361, 431359, 431357, 431355, 431353, 431351, 431349, 431347, 431345, 431343, 431341, 431339, 431337, 431335, 431333, 431331, 431329, 431327, 431325, 431323, 431321, 431319, 431317, 431315, 431313, 431311, 431309, 431307, 431305, 431303, 431301, 431299, 431297, 431295, 431293, 431291, 431289, 431287, 431285, 431283, 431281, 431279, 431277, 431275, 431273, 431271, 431269, 431267, 431265, 431263, 431261, 431259, 431257, 431255, 431253, 431251, 431249, 431247, 431245, 431243, 431241, 431239, 431237, 431235, 431233, 431231, 431229, 431227, 431225, 431223, 431221, 431219, 431217, 431215, 431213, 431211, 431209, 431207, 431205, 431203, 431201, 431199, 431197, 431195, 431193, 431191, 431189, 431187, 431185, 431183, 431181, 431179, 431177, 431175, 431173, 431171, 431169, 431167, 431165, 431163, 431161, 431159, 431157, 431155, 431153, 431151, 431149, 431147, 431145, 431143, 431141, 431139, 431137, 431135, 431133, 431131, 431129, 431127, 431125, 431123, 431121, 431119, 431117, 431115, 431113, 431111, 431109, 431107, 431105, 431103, 431101, 431099, 431097, 431095, 431093, 431091, 431089, 431087, 431085, 431083, 431081, 431079, 431077, 431075, 431073, 431071, 431069, 431067, 431065, 431063, 431061, 431059, 431057, 431055, 431053, 431051, 431049, 431047, 431045, 431043, 431041, 431039, 431037, 431035, 431033, 431031, 431029, 431027, 431025, 431023, 431021, 431019, 431017, 431015, 431013, 431011, 431009, 431007, 431005, 431003, 431001, 430999, 430997, 430995, 430993, 430991]\n"
     ]
    }
   ],
   "source": [
    "print(a)"
   ]
  },
  {
   "cell_type": "code",
   "execution_count": 49,
   "id": "c83d6a2b-a41d-4b1f-83ca-6760b2445dfa",
   "metadata": {},
   "outputs": [
    {
     "name": "stdout",
     "output_type": "stream",
     "text": [
      "268030431\n"
     ]
    }
   ],
   "source": [
    "Summe_a=0\n",
    "u=0\n",
    "for u in range (len(a)):\n",
    "    Summe_a+=a[u]\n",
    "    u+=1\n",
    "print(Summe_a)"
   ]
  },
  {
   "cell_type": "code",
   "execution_count": 267,
   "id": "fc1dcdbf-fb99-4dd1-9b4a-b824bc04f796",
   "metadata": {},
   "outputs": [
    {
     "name": "stdout",
     "output_type": "stream",
     "text": [
      "Zu übersetzendes Wort: Haus\n"
     ]
    },
    {
     "name": "stdin",
     "output_type": "stream",
     "text": [
      "Übersetzung eingeben: hs\n"
     ]
    },
    {
     "name": "stdout",
     "output_type": "stream",
     "text": [
      "Leider Falsch\n"
     ]
    },
    {
     "name": "stdin",
     "output_type": "stream",
     "text": [
      "'1' für nochmal, '0' zum beenden: 1\n"
     ]
    },
    {
     "name": "stdout",
     "output_type": "stream",
     "text": [
      "Zu übersetzendes Wort: Haus\n"
     ]
    },
    {
     "name": "stdin",
     "output_type": "stream",
     "text": [
      "Übersetzung eingeben: house\n"
     ]
    },
    {
     "name": "stdout",
     "output_type": "stream",
     "text": [
      "Richtig, hier ein neues\n",
      "Zu übersetzendes Wort: Hund\n"
     ]
    },
    {
     "name": "stdin",
     "output_type": "stream",
     "text": [
      "Übersetzung eingeben: dh\n"
     ]
    },
    {
     "name": "stdout",
     "output_type": "stream",
     "text": [
      "Leider Falsch\n"
     ]
    },
    {
     "name": "stdin",
     "output_type": "stream",
     "text": [
      "'1' für nochmal, '0' zum beenden: 1\n"
     ]
    },
    {
     "name": "stdout",
     "output_type": "stream",
     "text": [
      "Zu übersetzendes Wort: Hund\n"
     ]
    },
    {
     "name": "stdin",
     "output_type": "stream",
     "text": [
      "Übersetzung eingeben: dog\n"
     ]
    },
    {
     "name": "stdout",
     "output_type": "stream",
     "text": [
      "Richtig, hier ein neues\n",
      "Zu übersetzendes Wort: Maus\n"
     ]
    },
    {
     "name": "stdin",
     "output_type": "stream",
     "text": [
      "Übersetzung eingeben: hdj\n"
     ]
    },
    {
     "name": "stdout",
     "output_type": "stream",
     "text": [
      "Leider Falsch\n"
     ]
    },
    {
     "name": "stdin",
     "output_type": "stream",
     "text": [
      "'1' für nochmal, '0' zum beenden: 0\n"
     ]
    },
    {
     "name": "stdout",
     "output_type": "stream",
     "text": [
      "Programm beendet\n"
     ]
    }
   ],
   "source": [
    "\n",
    "#Aufgabe 3\n",
    "\n",
    "deutsch_english = {\"Haus\":\"house\",\"Hund\":\"dog\",\"Maus\":\"mouse\",\"Katze\":\"cat\"}\n",
    "keys={1:'Haus', 2:'Hund', 3:'Maus', 4:'Katze'}\n",
    "i=1\n",
    "c=\"\"\n",
    "d=\"\"\n",
    "z=True\n",
    "while i in range(1,len(deutsch_english)+1):\n",
    "    if z!=True:\n",
    "        print(\"Programm beendet\")\n",
    "        break\n",
    "    print(\"Zu übersetzendes Wort:\", keys[i])\n",
    "    c = input(\"Übersetzung eingeben:\")\n",
    "    d=deutsch_english[keys[i]]\n",
    "    if c == d:\n",
    "        print(\"Richtig, hier ein neues\")\n",
    "        i+=1\n",
    "    elif c!=d:\n",
    "        print(\"Leider Falsch\")\n",
    "        u = int(input(\"'1' für nochmal, '0' zum beenden:\"))\n",
    "        if u==1:\n",
    "            z=True\n",
    "        else:\n",
    "            z=False"
   ]
  },
  {
   "cell_type": "code",
   "execution_count": null,
   "id": "d3622427-a5db-4432-a503-ebf01a0fbdfa",
   "metadata": {},
   "outputs": [],
   "source": [
    "\n",
    "#Aufgabe 4\n"
   ]
  },
  {
   "cell_type": "code",
   "execution_count": 2,
   "id": "1da04d06-5cf7-41d9-8193-5d2b822c2055",
   "metadata": {},
   "outputs": [
    {
     "name": "stdout",
     "output_type": "stream",
     "text": [
      "o kommt 3 mal vor\n",
      "t kommt 2 mal vor\n",
      "P kommt 1 mal vor\n",
      "y kommt 1 mal vor\n",
      "h kommt 1 mal vor\n",
      "n kommt 1 mal vor\n",
      "i kommt 1 mal vor\n",
      "s kommt 1 mal vor\n",
      "c kommt 1 mal vor\n",
      "l kommt 1 mal vor\n"
     ]
    }
   ],
   "source": [
    "s= 'Python ist cool'\n",
    "sonder= ' !\"#$%&)))(*§+,-./:;<=>?@[\\\\]^_`{|}~'\n",
    "buchst=[]\n",
    "Anzahl=[]\n",
    "i4=0\n",
    "for i4 in range (len(s)):\n",
    "    i4_1=0\n",
    "    \n",
    "    if len(buchst)==0:\n",
    "        buchst+=s[i4]\n",
    "        i4+=1\n",
    "        Anzahl.append(0)\n",
    "    for i4_1 in range (len(buchst)+1):\n",
    "        if s[i4]==buchst[i4_1-1]:\n",
    "            i4+=1\n",
    "            break\n",
    "        elif i4_1 == len(buchst):\n",
    "            buchst+=s[i4]\n",
    "            Anzahl.append(0)\n",
    "            i4+=1\n",
    "            break\n",
    "        else: \n",
    "            i4_1+=1\n",
    "            \n",
    "i4_3=0\n",
    "for i4_3 in range (len(s)):\n",
    "    i4_4=0\n",
    "    for i4_4 in range (len(buchst)):\n",
    "        if i4_4==len(buchst):\n",
    "            i4_3+=1\n",
    "            break\n",
    "        elif buchst[i4_4]==s[i4_3]:\n",
    "            Anzahl[i4_4]+=1\n",
    "            break\n",
    "        else:\n",
    "            i4_4+=1\n",
    "    i4_3+=1\n",
    "\n",
    "i4_8=0\n",
    "for i4_8 in range (len (buchst)-1):\n",
    "    for i4_9 in range (len (sonder)):\n",
    "        if i4_8> len(buchst)-1:\n",
    "            break\n",
    "        elif buchst[i4_8]==sonder[i4_9]:\n",
    "            buchst.pop(i4_8)\n",
    "            Anzahl.pop(i4_8) \n",
    "            i4_8+=1\n",
    "            break\n",
    "        else:      \n",
    "            i4_9+=1\n",
    "\n",
    "lauf4=0\n",
    "for i4_7 in range (len(buchst)):\n",
    "    lauf4=0\n",
    "    for i4_6 in range (len (buchst)):\n",
    "        if lauf4 > Anzahl[i4_6]:\n",
    "            i4_6+=1\n",
    "        else:\n",
    "            lauf4=Anzahl[i4_6]\n",
    "\n",
    "    for i4_6 in range (len (buchst)):\n",
    "        \n",
    "        if lauf4 == Anzahl[i4_6]: \n",
    "            print (buchst[i4_6], 'kommt', Anzahl[i4_6], 'mal vor')\n",
    "            Anzahl.remove(Anzahl[i4_6])\n",
    "            buchst.remove(buchst[i4_6])\n",
    "            break\n",
    "        else:\n",
    "            i4_6+=1"
   ]
  },
  {
   "cell_type": "code",
   "execution_count": null,
   "id": "544b4d69-19ae-4912-a8e5-dbeba0f247aa",
   "metadata": {},
   "outputs": [],
   "source": [
    "#b)"
   ]
  },
  {
   "cell_type": "code",
   "execution_count": 17,
   "id": "690113e5-429d-4c05-83b3-91a1c16a6882",
   "metadata": {},
   "outputs": [
    {
     "name": "stdout",
     "output_type": "stream",
     "text": [
      "E kommt 5 mal vor\n",
      "I kommt 2 mal vor\n",
      "T kommt 2 mal vor\n",
      "N kommt 2 mal vor\n",
      "H kommt 1 mal vor\n",
      "R kommt 1 mal vor\n",
      "X kommt 1 mal vor\n",
      "G kommt 1 mal vor\n",
      "B kommt 1 mal vor\n"
     ]
    }
   ],
   "source": [
    "s= 'hier text eingeben!'\n",
    "s_neu=[]\n",
    "sonder= ' !\"#$%&)))(*§+,-./:;<=>?@[\\\\]^_`{|}~'\n",
    "buchst=[]\n",
    "Anzahl=[]\n",
    "\n",
    "\n",
    "\n",
    "i4_b=0\n",
    "for i4_b in range(len(s)):\n",
    "    i4_b1=0\n",
    "    for i4_b1 in range (25):\n",
    "        if ord(s[i4_b])==ord('a')+i4_b1:\n",
    "            s_neu.append(chr(ord('A')+i4_b1))\n",
    "        elif ord(s[i4_b])==ord('A')+i4_b1: \n",
    "            s_neu.append(s[i4_b])\n",
    "        elif s[i4_b]=='ß':\n",
    "            s_neu.append('S')\n",
    "            s_neu.append('S')\n",
    "            break\n",
    "        else:\n",
    "            i4_b1+=1\n",
    "    i4_b+=1\n",
    "\n",
    "\n",
    "i4=0\n",
    "for i4 in range (len(s_neu)):\n",
    "    i4_1=0\n",
    "    \n",
    "    if len(buchst)==0:\n",
    "        buchst+=s_neu[i4]\n",
    "        i4+=1\n",
    "        Anzahl.append(0)\n",
    "    for i4_1 in range (len(buchst)+1):\n",
    "        if s_neu[i4]==buchst[i4_1-1]:\n",
    "            i4+=1\n",
    "            break\n",
    "        elif i4_1 == len(buchst):\n",
    "            buchst+=s_neu[i4]\n",
    "            Anzahl.append(0)\n",
    "            i4+=1\n",
    "            break\n",
    "        else: \n",
    "            i4_1+=1\n",
    "            \n",
    "i4_3=0\n",
    "for i4_3 in range (len(s_neu)):\n",
    "    i4_4=0\n",
    "    for i4_4 in range (len(buchst)):\n",
    "        if i4_4==len(buchst):\n",
    "            i4_3+=1\n",
    "            break\n",
    "        elif buchst[i4_4]==s_neu[i4_3]:\n",
    "            Anzahl[i4_4]+=1\n",
    "            break\n",
    "        else:\n",
    "            i4_4+=1\n",
    "    i4_3+=1\n",
    "\n",
    "i4_8=0\n",
    "for i4_8 in range (len (buchst)-1):\n",
    "    for i4_9 in range (len (sonder)):\n",
    "        if i4_8> len(buchst)-1:\n",
    "            break\n",
    "        elif buchst[i4_8]==sonder[i4_9]:\n",
    "            buchst.pop(i4_8)\n",
    "            Anzahl.pop(i4_8) \n",
    "            i4_8+=1\n",
    "            break\n",
    "        else:      \n",
    "            i4_9+=1\n",
    "\n",
    "lauf4=0\n",
    "for i4_7 in range (len(buchst)):\n",
    "    lauf4=0\n",
    "    for i4_6 in range (len (buchst)):\n",
    "        if lauf4 > Anzahl[i4_6]:\n",
    "            i4_6+=1\n",
    "        else:\n",
    "            lauf4=Anzahl[i4_6]\n",
    "\n",
    "    for i4_6 in range (len (buchst)):\n",
    "        \n",
    "        if lauf4 == Anzahl[i4_6]: \n",
    "            print (buchst[i4_6], 'kommt', Anzahl[i4_6], 'mal vor')\n",
    "            Anzahl.remove(Anzahl[i4_6])\n",
    "            buchst.remove(buchst[i4_6])\n",
    "            break\n",
    "        else:\n",
    "            i4_6+=1"
   ]
  },
  {
   "cell_type": "code",
   "execution_count": 2,
   "id": "b567bf2c-8c47-4cd6-a8c2-a41f13109dfb",
   "metadata": {},
   "outputs": [
    {
     "name": "stdout",
     "output_type": "stream",
     "text": [
      "[[0 1 2 3 4]\n",
      " [5 6 7 8 9]]\n",
      "[2 3 4]\n"
     ]
    }
   ],
   "source": [
    "#Aufgabe 5:\n",
    "#Um Numpy-Arrays umzuformen, bzw in verschiedene Dimensionen zu unterteilen muss man den Namen des Numpy-Arrays mit der Funktion reshape() \n",
    "#aufrufen, in diesen kann man dann, mithilfe von Kommas die Unterteilung aufrufen. \n",
    "#Beim Slicing kann man ein Numpy-Array in mehrere Abschnitte unterteilen, dies geschieht in dem man den Namen des Numpy-Arrays aufruft\n",
    "#und in eckigen Klammern die unterteilung vornimmt, jedoch werden hier Doppelpunkte benutzt. Hierbei werden aber nur die ausgewählten Zahlen ausgegeben.\n",
    "#Besispiele:\n",
    "\n",
    "import numpy as np\n",
    "a=range(10)\n",
    "b=np.array(a)\n",
    "\n",
    "print(b.reshape(2,5)) # Ausgabe der Werte 2-5\n",
    "\n",
    "b\n",
    "print(b[2:5]) "
   ]
  },
  {
   "cell_type": "code",
   "execution_count": 6,
   "id": "3af77e63-11b5-4236-b48e-b577f9c07e60",
   "metadata": {},
   "outputs": [],
   "source": [
    "np.random.seed(42)\n",
    "a=np.random.randint(0,10,100)\n",
    "b=a[a<6].reshape(17,3)\n",
    "# b hat dann die Form von 17 einzelnen Sparten mit jeweils 3 Werten"
   ]
  },
  {
   "cell_type": "code",
   "execution_count": 139,
   "id": "9e745b38-8955-45cb-ae07-ff8f0fd1d692",
   "metadata": {},
   "outputs": [
    {
     "name": "stdout",
     "output_type": "stream",
     "text": [
      "Verschlüsselter Text: WXSG NLI SWS DAOFYXMH\n"
     ]
    }
   ],
   "source": [
    "#Aufg.7\n",
    "\n",
    "#a)\n",
    "text='DIES IST EIN KLARTEXT'\n",
    "passwort='SONNE'\n",
    "verschlüsselt='' \n",
    "\n",
    "i7=0\n",
    "i7_1=0\n",
    "\n",
    "for i7 in range(len(text)):\n",
    "    s=ord(text[i7])\n",
    "    \n",
    "    if chr(s)== ' ':\n",
    "        verschlüsselt+=' '\n",
    "        i7+=1\n",
    "    elif chr(s)== '.':\n",
    "        verschlüsselt+='.'\n",
    "        i7+=1 \n",
    "    elif chr(s)== ',':\n",
    "        verschlüsselt+=','\n",
    "        i7+=1\n",
    "        \n",
    "    else:\n",
    "        s+=ord(passwort[i7_1%len(passwort)])+1\n",
    "        if s>90:\n",
    "            s = s%26 + 65\n",
    "            verschlüsselt+=chr(s)\n",
    "        i7_1+=1\n",
    "    \n",
    "print ('Verschlüsselter Text:', verschlüsselt) "
   ]
  },
  {
   "cell_type": "code",
   "execution_count": 103,
   "id": "3d2691e5-ca0b-4113-af3a-607eb91025c8",
   "metadata": {},
   "outputs": [
    {
     "data": {
      "text/plain": [
       "-147"
      ]
     },
     "execution_count": 103,
     "metadata": {},
     "output_type": "execute_result"
    }
   ],
   "source": [
    "65-90-122"
   ]
  },
  {
   "cell_type": "code",
   "execution_count": 142,
   "id": "90d44b9f-45b0-4ecc-9594-14140b41196b",
   "metadata": {},
   "outputs": [
    {
     "name": "stdout",
     "output_type": "stream",
     "text": [
      "entschlüsselter Text: PYTHON MACHT SPASS\n"
     ]
    }
   ],
   "source": [
    "#b)\n",
    "text=''\n",
    "passwort='PASSWORT'\n",
    "verschlüsselt='fzmalc eusim lmpkm' \n",
    "verschlüsselt=verschlüsselt.upper()\n",
    "\n",
    "i7=0\n",
    "i7_1=0\n",
    "\n",
    "for i7 in range(len(verschlüsselt)):\n",
    "    s=ord(verschlüsselt[i7])\n",
    "    if chr(s)== ' ':\n",
    "        text+=' '\n",
    "        i7+=1\n",
    "    elif chr(s)== '.':\n",
    "        text+='.'\n",
    "        i7+=1 \n",
    "    elif chr(s)== ',':\n",
    "        text+=','\n",
    "        i7+=1\n",
    "       \n",
    "    else:\n",
    "        s-=ord(passwort[i7_1%len(passwort)])+1\n",
    "        if s<65:\n",
    "            s = s%26 + 65\n",
    "            text+=chr(s)\n",
    "        i7_1+=1\n",
    "print ('entschlüsselter Text:', text) "
   ]
  },
  {
   "cell_type": "code",
   "execution_count": 164,
   "id": "6ba612df-20de-43a6-b35f-3842eb491ecf",
   "metadata": {},
   "outputs": [
    {
     "name": "stdout",
     "output_type": "stream",
     "text": [
      "PASSWORTPASSWORT\n"
     ]
    }
   ],
   "source": [
    "text='PYTHON MACHT SPASS'\n",
    "passwort=''\n",
    "pw_ganz=''\n",
    "verschlüsselt='fzmalc eusim lmpkm'\n",
    "verschlüsselt=verschlüsselt.upper()\n",
    "\n",
    "i7=0\n",
    "\n",
    "for i7 in range (len(text)):\n",
    "    g=ord(text[i7])\n",
    "    if chr(g)== ' ':\n",
    "        i7+=1\n",
    "    elif chr(g)== '.':\n",
    "        i7+=1 \n",
    "    elif chr(g)== ',':\n",
    "        i7+=1\n",
    "    else:\n",
    "        g=ord(verschlüsselt[i7])-ord(text[i7])\n",
    "    \n",
    "        if g<65:\n",
    "            g=g%26 + 65\n",
    "\n",
    "        pw_ganz+=chr(g-1)\n",
    "    \n",
    "print (pw_ganz)\n",
    "\n",
    "\n",
    "\n",
    "\n",
    "\n"
   ]
  },
  {
   "cell_type": "code",
   "execution_count": null,
   "id": "3943451f-ced9-417f-bf84-a1b21ba49a52",
   "metadata": {},
   "outputs": [],
   "source": [
    "text=''\n",
    "wahrsch_text='MACHT'\n",
    "passwort=''\n",
    "pw_ganz=''\n",
    "verschlüsselt='fzmalc eusim lmpkm'\n",
    "verschlüsselt=verschlüsselt.upper()\n",
    "\n",
    "i7=0\n",
    "\n",
    "for i7 in range (len(verschlüsselt)):\n",
    "    g=ord(text[i7])\n",
    "    if chr(g)== ' ':\n",
    "        i7+=1\n",
    "    elif chr(g)== '.':\n",
    "        i7+=1 \n",
    "    elif chr(g)== ',':\n",
    "        i7+=1\n",
    "    else:\n",
    "        g=ord(verschlüsselt[i7])-ord(text[i7])\n",
    "    \n",
    "        if g<65:\n",
    "            g=g%26 + 65\n",
    "\n",
    "        pw_ganz+=chr(g-1)\n",
    "    \n",
    "print (pw_ganz)\n"
   ]
  },
  {
   "cell_type": "code",
   "execution_count": 174,
   "id": "3f498dbd-f106-4f4c-82c8-75def6bdda7c",
   "metadata": {},
   "outputs": [
    {
     "name": "stdout",
     "output_type": "stream",
     "text": [
      "Keyword Length 1: fzmalc eusim lmpkm\n",
      "Keyword Length 2: fymzlb etshm kmokl\n",
      "Keyword Length 3: fykaka etqil jmoim\n",
      "Keyword Length 4: fykxlb crshk imoij\n",
      "Keyword Length 5: fykxhc dspem kkmgm\n",
      "Keyword Length 6: fykxhx etqfi gmoij\n",
      "Keyword Length 7: fykxhx yurgj hhjkl\n",
      "Keyword Length 8: fykxhx ynshk iikef\n",
      "Keyword Length 9: fykxhx ynkil jjlfg\n",
      "Keyword Length 10: fykxhx ynkzm kkmgh\n"
     ]
    }
   ],
   "source": [
    "#aufgabe 7 c)\n",
    "#Keine Ahnung, wie ich dies realisieren soll, ohne angabe von der Länge des Passwortes.\n",
    "#Ich hatte die Idee, einen Algorithmus zu schreiben, der nach dem Schlüsselwort sucht, indem er jedes Wort nach und nach mit Vigenere entschlüsselt,\n",
    "#und guckt, ob das Wort rauskommt. Dies ist für mich auch in der vorgegebenen Zeit leider nicht realisierbar."
   ]
  },
  {
   "cell_type": "code",
   "execution_count": null,
   "id": "ade7493b-1855-4b0d-89c1-29d791740a64",
   "metadata": {},
   "outputs": [],
   "source": []
  }
 ],
 "metadata": {
  "kernelspec": {
   "display_name": "Python 3 (ipykernel)",
   "language": "python",
   "name": "python3"
  },
  "language_info": {
   "codemirror_mode": {
    "name": "ipython",
    "version": 3
   },
   "file_extension": ".py",
   "mimetype": "text/x-python",
   "name": "python",
   "nbconvert_exporter": "python",
   "pygments_lexer": "ipython3",
   "version": "3.12.3"
  }
 },
 "nbformat": 4,
 "nbformat_minor": 5
}
