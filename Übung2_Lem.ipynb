{
 "cells": [
  {
   "cell_type": "markdown",
   "id": "2cf93eb4",
   "metadata": {},
   "source": [
    "# Aufgabe 1\n",
    "\n",
    "Beschreiben Sie anhand eigener Beispiele wie Sie Numpy-Arrays\n",
    "umformen (reshape) und einzelne Bereiche in mehrdimensionalen\n",
    "Arrays auswählen (Slices)!"
   ]
  },
  {
   "cell_type": "code",
   "execution_count": 13,
   "id": "5403ed8a",
   "metadata": {},
   "outputs": [
    {
     "name": "stdout",
     "output_type": "stream",
     "text": [
      "[[[ 0  1  2  3]\n",
      "  [ 4  5  6  7]\n",
      "  [ 8  9 10 11]\n",
      "  [12 13 14 15]\n",
      "  [16 17 18 19]]\n",
      "\n",
      " [[20 21 22 23]\n",
      "  [24 25 26 27]\n",
      "  [28 29 30 31]\n",
      "  [32 33 34 35]\n",
      "  [36 37 38 39]]\n",
      "\n",
      " [[40 41 42 43]\n",
      "  [44 45 46 47]\n",
      "  [48 49 50 51]\n",
      "  [52 53 54 55]\n",
      "  [56 57 58 59]]\n",
      "\n",
      " [[60 61 62 63]\n",
      "  [64 65 66 67]\n",
      "  [68 69 70 71]\n",
      "  [72 73 74 75]\n",
      "  [76 77 78 79]]\n",
      "\n",
      " [[80 81 82 83]\n",
      "  [84 85 86 87]\n",
      "  [88 89 90 91]\n",
      "  [92 93 94 95]\n",
      "  [96 97 98 99]]]\n",
      "[[[ 0  1  2  3]\n",
      "  [ 4  5  6  7]\n",
      "  [ 8  9 10 11]\n",
      "  [12 13 14 15]\n",
      "  [16 17 18 19]]\n",
      "\n",
      " [[40 41 42 43]\n",
      "  [44 45 46 47]\n",
      "  [48 49 50 51]\n",
      "  [52 53 54 55]\n",
      "  [56 57 58 59]]\n",
      "\n",
      " [[80 81 82 83]\n",
      "  [84 85 86 87]\n",
      "  [88 89 90 91]\n",
      "  [92 93 94 95]\n",
      "  [96 97 98 99]]]\n",
      "(5, 5, 4)\n"
     ]
    }
   ],
   "source": [
    "import numpy as np\n",
    "array = np.array([range(0,100)])\n",
    "#print(array)\n",
    "#print(array.shape)\n",
    "array = array.reshape(10, 10)\n",
    "#print(array)\n",
    "#print(array.shape)\n",
    "\n",
    "array = array.reshape(10, 5, 2)\n",
    "#print(array)\n",
    "#print(array.shape)\n",
    "\n",
    "array = array.reshape(1, 5, 20)\n",
    "#print(array)\n",
    "#print(array.shape)\n",
    "\n",
    "array = array.reshape(5, 5, 4)\n",
    "print(array)\n",
    "print(array[::2])\n",
    "print(array.shape)\n"
   ]
  },
  {
   "cell_type": "markdown",
   "id": "80f9c29d",
   "metadata": {},
   "source": [
    "# Aufgabe 2\n",
    "\n",
    "Beschreiben Sie mit eigenen Worten (anhand des untenstehenden Code Beispiels), was man unter „Fancy-Indexing“ versteht!\n",
    "\n",
    "Der Variable A wird einem NumpyArray zugewiesen mit 100 einträgen mit random Nummern von 0 bis 10 (aus dem Randomseed 42)\n",
    "Aus diesem Array werden alle Int´s, die kleiner 6 sind ausgewählt und in eine weitere Liste geschrieben. Gleichzeitig wird diese Liste umgeformt in ein Array mit 17 Zeilenvektoren mit jemals 3 einträgen und der variablen b zugeordnet."
   ]
  },
  {
   "cell_type": "code",
   "execution_count": 11,
   "id": "c71b69f1",
   "metadata": {},
   "outputs": [
    {
     "name": "stdout",
     "output_type": "stream",
     "text": [
      "[6 3 7 4 6 9 2 6 7 4 3 7 7 2 5 4 1 7 5 1 4 0 9 5 8 0 9 2 6 3 8 2 4 2 6 4 8\n",
      " 6 1 3 8 1 9 8 9 4 1 3 6 7 2 0 3 1 7 3 1 5 5 9 3 5 1 9 1 9 3 7 6 8 7 4 1 4\n",
      " 7 9 8 8 0 8 6 8 7 0 7 7 2 0 7 2 2 0 4 9 6 9 8 6 8 7]\n",
      "[[3 4 2]\n",
      " [4 3 2]\n",
      " [5 4 1]\n",
      " [5 1 4]\n",
      " [0 5 0]\n",
      " [2 3 2]\n",
      " [4 2 4]\n",
      " [1 3 1]\n",
      " [4 1 3]\n",
      " [2 0 3]\n",
      " [1 3 1]\n",
      " [5 5 3]\n",
      " [5 1 1]\n",
      " [3 4 1]\n",
      " [4 0 0]\n",
      " [2 0 2]\n",
      " [2 0 4]]\n"
     ]
    }
   ],
   "source": [
    "import numpy as np\n",
    "np.random.seed(42)\n",
    "a = np.random.randint(0,10,100) \n",
    "print(a)\n",
    "\n",
    "b = a[a < 6].reshape(17,3)\n",
    "print(b)"
   ]
  },
  {
   "cell_type": "markdown",
   "id": "a29fddb8",
   "metadata": {},
   "source": [
    "# Aufgabe 3 \n",
    "\n",
    "Bei der Vigenère-Verschlüsselung wird der Klartext mit einem festen\n",
    "Schlüsselwort verrechnet. Dabei werden die Buchstaben anhand ihrer\n",
    "Position im Alphabet addiert (A=1, B=2, …), wobei nach dem „Z=26“\n",
    "wieder „A=1≙27“ folgt! Der Einfachheit halber werden Leerzeichen\n",
    "nicht verschlüsselt. Das Passwort wird genau unter den Klartext immer\n",
    "wiederholt, bis es genau die Länge des Klartextes hat.\n",
    "Das Ergebnis ist der Chiffretext.\n",
    "\n",
    "a) Programmieren Sie die Verschlüsselung von Klartext und\n",
    "Passwort in Chiffretext!\n"
   ]
  },
  {
   "cell_type": "code",
   "execution_count": 91,
   "id": "148458bd",
   "metadata": {},
   "outputs": [
    {
     "name": "stdout",
     "output_type": "stream",
     "text": [
      "S\n",
      "W\n",
      "83\n",
      "SO\n",
      "WX\n",
      "87\n",
      "SON\n",
      "WXS\n",
      "83\n",
      "SONN\n",
      "WXSG\n",
      "88\n",
      "SONNE\n",
      "WXSG N\n",
      "66\n",
      "SONNES\n",
      "WXSG NL\n",
      "72\n",
      "SONNESO\n",
      "WXSG NLI\n",
      "72\n",
      "SONNESON\n",
      "WXSG NLI S\n",
      "83\n",
      "SONNESONN\n",
      "WXSG NLI SW\n",
      "78\n",
      "SONNESONNE\n",
      "WXSG NLI SWS\n",
      "71\n",
      "SONNESONNES\n",
      "WXSG NLI SWS D\n",
      "90\n",
      "SONNESONNESO\n",
      "WXSG NLI SWS DA\n",
      "90\n",
      "SONNESONNESON\n",
      "WXSG NLI SWS DAO\n",
      "79\n",
      "SONNESONNESONN\n",
      "WXSG NLI SWS DAOF\n",
      "87\n",
      "SONNESONNESONNE\n",
      "WXSG NLI SWS DAOFY\n",
      "77\n",
      "SONNESONNESONNES\n",
      "WXSG NLI SWS DAOFYX\n",
      "84\n",
      "SONNESONNESONNESO\n",
      "WXSG NLI SWS DAOFYXM\n",
      "76\n",
      "SONNESONNESONNESON\n",
      "WXSG NLI SWS DAOFYXMH\n",
      "72\n",
      "Encrypted text: WXSG NLI SWS DAOFYXMH\n"
     ]
    }
   ],
   "source": [
    "text = 'DIES IST EIN KLARTEXT'\n",
    "pw = 'SONNE'\n",
    "pw1 = ''\n",
    "i_1 = 0\n",
    "\n",
    "def encrypt(text, pw):\n",
    "    global pw1, i_1\n",
    "    text = text.upper()\n",
    "    pw = pw.upper()\n",
    "    result = ''\n",
    "    i= 0\n",
    "    for i in range(len(text)):\n",
    "        if text[i] == ' ':\n",
    "            result += ' '\n",
    "            \n",
    "        else:\n",
    "            result += chr((ord(text[i]) + ord(pw[i_1 % len(pw)])+1) %26 + ord('A'))\n",
    "            pw1 += pw[i_1 % len(pw)]\n",
    "            i_1 += 1\n",
    "            print(pw1)\n",
    "            print(result)\n",
    "            print((ord(text[i]) + ord(pw[i_1 % len(pw)]))%26+ord('A')+1)\n",
    "    return result\n",
    "\n",
    "encrypted_text = encrypt(text, pw)\n",
    "print('Encrypted text:', encrypted_text)\n"
   ]
  },
  {
   "cell_type": "code",
   "execution_count": 82,
   "id": "5fc6a931",
   "metadata": {},
   "outputs": [
    {
     "data": {
      "text/plain": [
       "'A'"
      ]
     },
     "execution_count": 82,
     "metadata": {},
     "output_type": "execute_result"
    }
   ],
   "source": [
    "chr(65)"
   ]
  },
  {
   "cell_type": "markdown",
   "id": "8a717eb7",
   "metadata": {},
   "source": [
    "b) Programmieren Sie die Entschlüsselung von Chiffretext und\n",
    "Passwort in Klartext! "
   ]
  },
  {
   "cell_type": "code",
   "execution_count": 92,
   "id": "2220b98f",
   "metadata": {},
   "outputs": [
    {
     "name": "stdout",
     "output_type": "stream",
     "text": [
      "D\n",
      "87\n",
      "DI\n",
      "88\n",
      "DIE\n",
      "83\n",
      "DIES\n",
      "71\n",
      "DIES I\n",
      "78\n",
      "DIES IS\n",
      "76\n",
      "DIES IST\n",
      "73\n",
      "DIES IST E\n",
      "83\n",
      "DIES IST EI\n",
      "87\n",
      "DIES IST EIN\n",
      "83\n",
      "DIES IST EIN K\n",
      "68\n",
      "DIES IST EIN KL\n",
      "65\n",
      "DIES IST EIN KLA\n",
      "79\n",
      "DIES IST EIN KLAR\n",
      "70\n",
      "DIES IST EIN KLART\n",
      "89\n",
      "DIES IST EIN KLARTE\n",
      "88\n",
      "DIES IST EIN KLARTEX\n",
      "77\n",
      "DIES IST EIN KLARTEXT\n",
      "72\n",
      "Decrypted text: DIES IST EIN KLARTEXT\n"
     ]
    }
   ],
   "source": [
    "encrypted_text = 'WXSG NLI SWS DAOFYXMH'\n",
    "pw = 'SONNE'\n",
    "i_1 = 0\n",
    "\n",
    "def decrypt(text, pw):\n",
    "    global i_1\n",
    "    text = text.upper()\n",
    "    pw = pw.upper()\n",
    "    result = ''\n",
    "    i= 0\n",
    "    for i in range(len(text)):\n",
    "        if text[i] == ' ':\n",
    "            result += ' '\n",
    "        else:\n",
    "            result += chr((ord(text[i]) - ord(pw[i_1 % len(pw)])-1) % 26 + ord('A'))\n",
    "            i_1 += 1\n",
    "            print(result)\n",
    "            print((ord(text[i]) + ord(pw[i % len(pw)])//90))\n",
    "    return result\n",
    "\n",
    "decrypted_text = decrypt(encrypted_text, pw)\n",
    "print('Decrypted text:', decrypted_text)"
   ]
  },
  {
   "cell_type": "markdown",
   "id": "35d8e3e3",
   "metadata": {},
   "source": [
    "c) Programmieren Sie im Rahmen der Kryptoanalyse einen „Known-Plaintext-Angriff“!\n",
    "Hierbei wird aus dem Klartext und dem Chiffretext das\n",
    "zugehörige Passwort ermittelt!\n"
   ]
  },
  {
   "cell_type": "code",
   "execution_count": 94,
   "id": "03a0b0c4",
   "metadata": {},
   "outputs": [
    {
     "name": "stdout",
     "output_type": "stream",
     "text": [
      "SONNESONNESONNESON\n"
     ]
    }
   ],
   "source": [
    "text = 'DIES IST EIN KLARTEXT'\n",
    "encrypted_text = 'WXSG NLI SWS DAOFYXMH'\n",
    "pw = ''\n",
    "\n",
    "for i in range(len(text)): \n",
    "    if text[i] == ' ':\n",
    "        pw += ''\n",
    "    else:\n",
    "        pw += chr((ord(encrypted_text[i]) - ord(text[i])-1) % 26 + ord('A'))\n",
    "    \n",
    "print(pw)"
   ]
  },
  {
   "cell_type": "markdown",
   "id": "743abedc",
   "metadata": {},
   "source": [
    "d) Programmieren Sie im Rahmen der Kryptoanalyse einen\n",
    "„Probable-Plaintext-Angriff“!\n",
    "Dabei soll Ihr Programm einen Chiffretext ohne Passwort und\n",
    "ohne Klartext ermitteln, indem systematisch immer längere\n",
    "Passwörter geraten werden. Sie dürfen dabei einen Teil des\n",
    "Klartextes vorgeben (ansonsten können Sie nicht überprüfen, ob\n",
    "die Entschlüsselung erfolgreich ist) "
   ]
  },
  {
   "cell_type": "code",
   "execution_count": null,
   "id": "d7bec2db",
   "metadata": {},
   "outputs": [],
   "source": []
  }
 ],
 "metadata": {
  "kernelspec": {
   "display_name": "Python 3",
   "language": "python",
   "name": "python3"
  },
  "language_info": {
   "codemirror_mode": {
    "name": "ipython",
    "version": 3
   },
   "file_extension": ".py",
   "mimetype": "text/x-python",
   "name": "python",
   "nbconvert_exporter": "python",
   "pygments_lexer": "ipython3",
   "version": "3.11.9"
  }
 },
 "nbformat": 4,
 "nbformat_minor": 5
}
