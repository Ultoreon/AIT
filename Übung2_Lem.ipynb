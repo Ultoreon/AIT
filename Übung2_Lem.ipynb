{
 "cells": [
  {
   "cell_type": "markdown",
   "id": "2cf93eb4",
   "metadata": {},
   "source": [
    "# Aufgabe 1\n",
    "\n",
    "Beschreiben Sie anhand eigener Beispiele wie Sie Numpy-Arrays\n",
    "umformen (reshape) und einzelne Bereiche in mehrdimensionalen\n",
    "Arrays auswählen (Slices)!"
   ]
  },
  {
   "cell_type": "code",
   "execution_count": 13,
   "id": "5403ed8a",
   "metadata": {},
   "outputs": [
    {
     "name": "stdout",
     "output_type": "stream",
     "text": [
      "[[[ 0  1  2  3]\n",
      "  [ 4  5  6  7]\n",
      "  [ 8  9 10 11]\n",
      "  [12 13 14 15]\n",
      "  [16 17 18 19]]\n",
      "\n",
      " [[20 21 22 23]\n",
      "  [24 25 26 27]\n",
      "  [28 29 30 31]\n",
      "  [32 33 34 35]\n",
      "  [36 37 38 39]]\n",
      "\n",
      " [[40 41 42 43]\n",
      "  [44 45 46 47]\n",
      "  [48 49 50 51]\n",
      "  [52 53 54 55]\n",
      "  [56 57 58 59]]\n",
      "\n",
      " [[60 61 62 63]\n",
      "  [64 65 66 67]\n",
      "  [68 69 70 71]\n",
      "  [72 73 74 75]\n",
      "  [76 77 78 79]]\n",
      "\n",
      " [[80 81 82 83]\n",
      "  [84 85 86 87]\n",
      "  [88 89 90 91]\n",
      "  [92 93 94 95]\n",
      "  [96 97 98 99]]]\n",
      "[[[ 0  1  2  3]\n",
      "  [ 4  5  6  7]\n",
      "  [ 8  9 10 11]\n",
      "  [12 13 14 15]\n",
      "  [16 17 18 19]]\n",
      "\n",
      " [[40 41 42 43]\n",
      "  [44 45 46 47]\n",
      "  [48 49 50 51]\n",
      "  [52 53 54 55]\n",
      "  [56 57 58 59]]\n",
      "\n",
      " [[80 81 82 83]\n",
      "  [84 85 86 87]\n",
      "  [88 89 90 91]\n",
      "  [92 93 94 95]\n",
      "  [96 97 98 99]]]\n",
      "(5, 5, 4)\n"
     ]
    }
   ],
   "source": [
    "import numpy as np\n",
    "array = np.array([range(0,100)])\n",
    "#print(array)\n",
    "#print(array.shape)\n",
    "array = array.reshape(10, 10)\n",
    "#print(array)\n",
    "#print(array.shape)\n",
    "\n",
    "array = array.reshape(10, 5, 2)\n",
    "#print(array)\n",
    "#print(array.shape)\n",
    "\n",
    "array = array.reshape(1, 5, 20)\n",
    "#print(array)\n",
    "#print(array.shape)\n",
    "\n",
    "array = array.reshape(5, 5, 4)\n",
    "print(array)\n",
    "print(array[::2])\n",
    "print(array.shape)\n"
   ]
  },
  {
   "cell_type": "markdown",
   "id": "80f9c29d",
   "metadata": {},
   "source": [
    "# Aufgabe 2\n",
    "\n",
    "Beschreiben Sie mit eigenen Worten (anhand des untenstehenden Code Beispiels), was man unter „Fancy-Indexing“ versteht!\n",
    "\n",
    "Der Variable A wird einem NumpyArray zugewiesen mit 100 einträgen mit random Nummern von 0 bis 10 (aus dem Randomseed 42)\n",
    "Aus diesem Array werden alle Int´s, die kleiner 6 sind ausgewählt und in eine weitere Liste geschrieben. Gleichzeitig wird diese Liste umgeformt in ein Array mit 17 Zeilenvektoren mit jemals 3 einträgen und der variablen b zugeordnet."
   ]
  },
  {
   "cell_type": "code",
   "execution_count": 1,
   "id": "c71b69f1",
   "metadata": {},
   "outputs": [
    {
     "name": "stdout",
     "output_type": "stream",
     "text": [
      "[6 3 7 4 6 9 2 6 7 4 3 7 7 2 5 4 1 7 5 1 4 0 9 5 8 0 9 2 6 3 8 2 4 2 6 4 8\n",
      " 6 1 3 8 1 9 8 9 4 1 3 6 7 2 0 3 1 7 3 1 5 5 9 3 5 1 9 1 9 3 7 6 8 7 4 1 4\n",
      " 7 9 8 8 0 8 6 8 7 0 7 7 2 0 7 2 2 0 4 9 6 9 8 6 8 7]\n",
      "[[3 4 2]\n",
      " [4 3 2]\n",
      " [5 4 1]\n",
      " [5 1 4]\n",
      " [0 5 0]\n",
      " [2 3 2]\n",
      " [4 2 4]\n",
      " [1 3 1]\n",
      " [4 1 3]\n",
      " [2 0 3]\n",
      " [1 3 1]\n",
      " [5 5 3]\n",
      " [5 1 1]\n",
      " [3 4 1]\n",
      " [4 0 0]\n",
      " [2 0 2]\n",
      " [2 0 4]]\n"
     ]
    }
   ],
   "source": [
    "import numpy as np\n",
    "np.random.seed(42)\n",
    "a = np.random.randint(0,10,100) \n",
    "print(a)\n",
    "\n",
    "b = a[a < 6].reshape(17,3)\n",
    "print(b)"
   ]
  },
  {
   "cell_type": "markdown",
   "id": "a29fddb8",
   "metadata": {},
   "source": [
    "# Aufgabe 3 \n",
    "\n",
    "Bei der Vigenère-Verschlüsselung wird der Klartext mit einem festen\n",
    "Schlüsselwort verrechnet. Dabei werden die Buchstaben anhand ihrer\n",
    "Position im Alphabet addiert (A=1, B=2, …), wobei nach dem „Z=26“\n",
    "wieder „A=1≙27“ folgt! Der Einfachheit halber werden Leerzeichen\n",
    "nicht verschlüsselt. Das Passwort wird genau unter den Klartext immer\n",
    "wiederholt, bis es genau die Länge des Klartextes hat.\n",
    "Das Ergebnis ist der Chiffretext.\n",
    "\n",
    "a) Programmieren Sie die Verschlüsselung von Klartext und\n",
    "Passwort in Chiffretext!\n"
   ]
  },
  {
   "cell_type": "code",
   "execution_count": 3,
   "id": "148458bd",
   "metadata": {},
   "outputs": [
    {
     "name": "stdout",
     "output_type": "stream",
     "text": [
      "Encrypted text: WXSG NLI SWS DAOFYXMH\n"
     ]
    }
   ],
   "source": [
    "text = 'DIES IST EIN KLARTEXT'\n",
    "pw = 'SONNE'\n",
    "pw1 = ''\n",
    "i_1 = 0\n",
    "\n",
    "\n",
    "text = text.upper()\n",
    "pw = pw.upper()\n",
    "result = ''\n",
    "i= 0\n",
    "for i in range(len(text)):\n",
    "    if text[i] == ' ':\n",
    "        result += ' '\n",
    "    else:\n",
    "        result += chr((ord(text[i]) + ord(pw[i_1 % len(pw)])+1) %26 + ord('A'))\n",
    "        i_1 += 1\n",
    "\n",
    "encrypted_text = result\n",
    "print('Encrypted text:', encrypted_text)\n"
   ]
  },
  {
   "cell_type": "markdown",
   "id": "8a717eb7",
   "metadata": {},
   "source": [
    "b) Programmieren Sie die Entschlüsselung von Chiffretext und\n",
    "Passwort in Klartext! "
   ]
  },
  {
   "cell_type": "code",
   "execution_count": 8,
   "id": "2220b98f",
   "metadata": {},
   "outputs": [
    {
     "name": "stdout",
     "output_type": "stream",
     "text": [
      "Decrypted text: DIES IST EIN KLARTEXT\n"
     ]
    }
   ],
   "source": [
    "text = 'WXSG NLI SWS DAOFYXMH'\n",
    "pw = 'SONNE'\n",
    "i_1 = 0\n",
    "\n",
    "\n",
    "text = text.upper()\n",
    "pw = pw.upper()\n",
    "result = ''\n",
    "\n",
    "for i in range(len(text)):\n",
    "    if text[i] == ' ':\n",
    "        result += ' '\n",
    "    else:\n",
    "        result += chr((ord(text[i]) - ord(pw[i_1 % len(pw)])-1) % 26 + ord('A'))\n",
    "        i_1 += 1\n",
    "    \n",
    "\n",
    "\n",
    "decrypted_text = result\n",
    "print('Decrypted text:', decrypted_text)"
   ]
  },
  {
   "cell_type": "markdown",
   "id": "35d8e3e3",
   "metadata": {},
   "source": [
    "c) Programmieren Sie im Rahmen der Kryptoanalyse einen „Known-Plaintext-Angriff“!\n",
    "Hierbei wird aus dem Klartext und dem Chiffretext das\n",
    "zugehörige Passwort ermittelt!\n"
   ]
  },
  {
   "cell_type": "code",
   "execution_count": null,
   "id": "03a0b0c4",
   "metadata": {},
   "outputs": [
    {
     "ename": "IndexError",
     "evalue": "string index out of range",
     "output_type": "error",
     "traceback": [
      "\u001b[1;31m---------------------------------------------------------------------------\u001b[0m",
      "\u001b[1;31mIndexError\u001b[0m                                Traceback (most recent call last)",
      "Cell \u001b[1;32mIn[3], line 13\u001b[0m\n\u001b[0;32m     11\u001b[0m \u001b[38;5;28;01mfor\u001b[39;00m i \u001b[38;5;129;01min\u001b[39;00m \u001b[38;5;28mrange\u001b[39m(\u001b[38;5;28mlen\u001b[39m(pw)):\n\u001b[0;32m     12\u001b[0m     PW \u001b[38;5;241m+\u001b[39m\u001b[38;5;241m=\u001b[39m pw[i]\n\u001b[1;32m---> 13\u001b[0m     \u001b[38;5;28;01mif\u001b[39;00m pw[i] \u001b[38;5;241m==\u001b[39m \u001b[43mpw\u001b[49m\u001b[43m[\u001b[49m\u001b[43mi\u001b[49m\u001b[38;5;241;43m+\u001b[39;49m\u001b[38;5;241;43m1\u001b[39;49m\u001b[43m]\u001b[49m:\n\u001b[0;32m     14\u001b[0m         \u001b[38;5;28;01mfor\u001b[39;00m j \u001b[38;5;129;01min\u001b[39;00m \u001b[38;5;28mrange\u001b[39m(i):\n\u001b[0;32m     15\u001b[0m             \u001b[38;5;28;01mif\u001b[39;00m pw[i] \u001b[38;5;241m==\u001b[39m pw[j]:\n",
      "\u001b[1;31mIndexError\u001b[0m: string index out of range"
     ]
    }
   ],
   "source": [
    "text = 'DIES IST EIN KLARTEXT'\n",
    "encrypted_text = 'WXSG NLI SWS DAOFYXMH'\n",
    "pw = ''\n",
    "\n",
    "for i in range(len(text)): \n",
    "    if text[i] == ' ':\n",
    "        pw += ''\n",
    "    else:\n",
    "        pw += chr((ord(encrypted_text[i]) - ord(text[i]) - 1) % 26 + ord('A'))\n",
    "PW = ''    \n",
    "   \n",
    "for i in range(len(pw)):\n",
    "    PW += pw[i]\n",
    "    if pw[i] == pw[i+1]:\n",
    "        for j in range(i):\n",
    "            if pw[i] == pw[j]:\n",
    "                pw = pw[:j] + pw[j+1:]\n",
    "                break\n",
    "\n",
    "print(pw)"
   ]
  },
  {
   "cell_type": "markdown",
   "id": "743abedc",
   "metadata": {},
   "source": [
    "d) Programmieren Sie im Rahmen der Kryptoanalyse einen\n",
    "„Probable-Plaintext-Angriff“!\n",
    "Dabei soll Ihr Programm einen Chiffretext ohne Passwort und\n",
    "ohne Klartext ermitteln, indem systematisch immer längere\n",
    "Passwörter geraten werden. Sie dürfen dabei einen Teil des\n",
    "Klartextes vorgeben (ansonsten können Sie nicht überprüfen, ob\n",
    "die Entschlüsselung erfolgreich ist) "
   ]
  },
  {
   "cell_type": "code",
   "execution_count": null,
   "id": "d7bec2db",
   "metadata": {},
   "outputs": [
    {
     "name": "stdout",
     "output_type": "stream",
     "text": [
      "SONNESONNESOSONNESO\n"
     ]
    }
   ],
   "source": [
    "# encrypted_text = 'WXSG NLI SWS DAOFYXMH'\n",
    "# text = 'DIES IST '\n",
    "\n",
    "# for i in range(len(text)):\n",
    "#     if text[i] == ' ':\n",
    "#         pw += ''\n",
    "#     else:\n",
    "#         pw += chr((ord(encrypted_text[i]) - ord(text[i])-1) % 26 + ord('A'))\n",
    "\n",
    "# print(pw)\n"
   ]
  }
 ],
 "metadata": {
  "kernelspec": {
   "display_name": "Python 3",
   "language": "python",
   "name": "python3"
  },
  "language_info": {
   "codemirror_mode": {
    "name": "ipython",
    "version": 3
   },
   "file_extension": ".py",
   "mimetype": "text/x-python",
   "name": "python",
   "nbconvert_exporter": "python",
   "pygments_lexer": "ipython3",
   "version": "3.11.9"
  }
 },
 "nbformat": 4,
 "nbformat_minor": 5
}
