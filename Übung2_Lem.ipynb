{
 "cells": [
  {
   "cell_type": "markdown",
   "id": "2cf93eb4",
   "metadata": {},
   "source": [
    "# Aufgabe 1\n",
    "\n",
    "Beschreiben Sie anhand eigener Beispiele wie Sie Numpy-Arrays\n",
    "umformen (reshape) und einzelne Bereiche in mehrdimensionalen\n",
    "Arrays auswählen (Slices)!"
   ]
  },
  {
   "cell_type": "code",
   "execution_count": 13,
   "id": "5403ed8a",
   "metadata": {},
   "outputs": [
    {
     "name": "stdout",
     "output_type": "stream",
     "text": [
      "[[[ 0  1  2  3]\n",
      "  [ 4  5  6  7]\n",
      "  [ 8  9 10 11]\n",
      "  [12 13 14 15]\n",
      "  [16 17 18 19]]\n",
      "\n",
      " [[20 21 22 23]\n",
      "  [24 25 26 27]\n",
      "  [28 29 30 31]\n",
      "  [32 33 34 35]\n",
      "  [36 37 38 39]]\n",
      "\n",
      " [[40 41 42 43]\n",
      "  [44 45 46 47]\n",
      "  [48 49 50 51]\n",
      "  [52 53 54 55]\n",
      "  [56 57 58 59]]\n",
      "\n",
      " [[60 61 62 63]\n",
      "  [64 65 66 67]\n",
      "  [68 69 70 71]\n",
      "  [72 73 74 75]\n",
      "  [76 77 78 79]]\n",
      "\n",
      " [[80 81 82 83]\n",
      "  [84 85 86 87]\n",
      "  [88 89 90 91]\n",
      "  [92 93 94 95]\n",
      "  [96 97 98 99]]]\n",
      "[[[ 0  1  2  3]\n",
      "  [ 4  5  6  7]\n",
      "  [ 8  9 10 11]\n",
      "  [12 13 14 15]\n",
      "  [16 17 18 19]]\n",
      "\n",
      " [[40 41 42 43]\n",
      "  [44 45 46 47]\n",
      "  [48 49 50 51]\n",
      "  [52 53 54 55]\n",
      "  [56 57 58 59]]\n",
      "\n",
      " [[80 81 82 83]\n",
      "  [84 85 86 87]\n",
      "  [88 89 90 91]\n",
      "  [92 93 94 95]\n",
      "  [96 97 98 99]]]\n",
      "(5, 5, 4)\n"
     ]
    }
   ],
   "source": [
    "import numpy as np\n",
    "array = np.array([range(0,100)])\n",
    "#print(array)\n",
    "#print(array.shape)\n",
    "array = array.reshape(10, 10)\n",
    "#print(array)\n",
    "#print(array.shape)\n",
    "\n",
    "array = array.reshape(10, 5, 2)\n",
    "#print(array)\n",
    "#print(array.shape)\n",
    "\n",
    "array = array.reshape(1, 5, 20)\n",
    "#print(array)\n",
    "#print(array.shape)\n",
    "\n",
    "array = array.reshape(5, 5, 4)\n",
    "print(array)\n",
    "print(array[::2])\n",
    "print(array.shape)\n"
   ]
  },
  {
   "cell_type": "markdown",
   "id": "80f9c29d",
   "metadata": {},
   "source": [
    "# Aufgabe 2\n",
    "\n",
    "Beschreiben Sie mit eigenen Worten (anhand des untenstehenden Code Beispiels), was man unter „Fancy-Indexing“ versteht!\n",
    "\n",
    "Der Variable A wird einem NumpyArray zugewiesen mit 100 einträgen mit random Nummern von 0 bis 10 (aus dem Randomseed 42)\n",
    "Aus diesem Array werden alle Int´s, die kleiner 6 sind ausgewählt und in eine weitere Liste geschrieben. Gleichzeitig wird diese Liste umgeformt in ein Array mit 17 Zeilenvektoren mit jemals 3 einträgen und der variablen b zugeordnet."
   ]
  },
  {
   "cell_type": "code",
   "execution_count": 11,
   "id": "c71b69f1",
   "metadata": {},
   "outputs": [
    {
     "name": "stdout",
     "output_type": "stream",
     "text": [
      "[6 3 7 4 6 9 2 6 7 4 3 7 7 2 5 4 1 7 5 1 4 0 9 5 8 0 9 2 6 3 8 2 4 2 6 4 8\n",
      " 6 1 3 8 1 9 8 9 4 1 3 6 7 2 0 3 1 7 3 1 5 5 9 3 5 1 9 1 9 3 7 6 8 7 4 1 4\n",
      " 7 9 8 8 0 8 6 8 7 0 7 7 2 0 7 2 2 0 4 9 6 9 8 6 8 7]\n",
      "[[3 4 2]\n",
      " [4 3 2]\n",
      " [5 4 1]\n",
      " [5 1 4]\n",
      " [0 5 0]\n",
      " [2 3 2]\n",
      " [4 2 4]\n",
      " [1 3 1]\n",
      " [4 1 3]\n",
      " [2 0 3]\n",
      " [1 3 1]\n",
      " [5 5 3]\n",
      " [5 1 1]\n",
      " [3 4 1]\n",
      " [4 0 0]\n",
      " [2 0 2]\n",
      " [2 0 4]]\n"
     ]
    }
   ],
   "source": [
    "import numpy as np\n",
    "np.random.seed(42)\n",
    "a = np.random.randint(0,10,100) \n",
    "print(a)\n",
    "\n",
    "b = a[a < 6].reshape(17,3)\n",
    "print(b)"
   ]
  },
  {
   "cell_type": "markdown",
   "id": "a29fddb8",
   "metadata": {},
   "source": [
    "# Aufgabe 3 \n",
    "\n",
    "Bei der Vigenère-Verschlüsselung wird der Klartext mit einem festen\n",
    "Schlüsselwort verrechnet. Dabei werden die Buchstaben anhand ihrer\n",
    "Position im Alphabet addiert (A=1, B=2, …), wobei nach dem „Z=26“\n",
    "wieder „A=1≙27“ folgt! Der Einfachheit halber werden Leerzeichen\n",
    "nicht verschlüsselt. Das Passwort wird genau unter den Klartext immer\n",
    "wiederholt, bis es genau die Länge des Klartextes hat.\n",
    "Das Ergebnis ist der Chiffretext.\n",
    "\n",
    "a) Programmieren Sie die Verschlüsselung von Klartext und\n",
    "Passwort in Chiffretext!\n"
   ]
  },
  {
   "cell_type": "code",
   "execution_count": null,
   "id": "148458bd",
   "metadata": {},
   "outputs": [
    {
     "name": "stdout",
     "output_type": "stream",
     "text": [
      "B\n",
      "68\n",
      "BB\n",
      "73\n",
      "BBB\n",
      "69\n",
      "BBBB\n",
      "83\n",
      "BBBB B\n",
      "73\n",
      "BBBB BB\n",
      "83\n",
      "BBBB BBB\n",
      "84\n",
      "BBBB BBB B\n",
      "69\n",
      "BBBB BBB BB\n",
      "73\n",
      "BBBB BBB BBB\n",
      "78\n",
      "BBBB BBB BBB B\n",
      "75\n",
      "BBBB BBB BBB BB\n",
      "76\n",
      "BBBB BBB BBB BBB\n",
      "65\n",
      "BBBB BBB BBB BBBB\n",
      "82\n",
      "BBBB BBB BBB BBBBB\n",
      "84\n",
      "BBBB BBB BBB BBBBBB\n",
      "69\n",
      "BBBB BBB BBB BBBBBBB\n",
      "88\n",
      "BBBB BBB BBB BBBBBBBB\n",
      "84\n",
      "Encrypted text: BBBB BBB BBB BBBBBBBB\n"
     ]
    }
   ],
   "source": [
    "text = 'DIES IST EIN KLARTEXT'\n",
    "pw = 'SONNE'\n",
    "\n",
    "def encrypt(text, pw):\n",
    "    \n",
    "    text = text.upper()\n",
    "    pw = pw.upper()\n",
    "    result = ''\n",
    "    i= 0\n",
    "    for i in range(len(text)):\n",
    "        if text[i] == ' ':\n",
    "            result += ' '\n",
    "        else:\n",
    "            if (ord(text[i]) + ord(pw[i % len(pw)])) <= ord('Z'):\n",
    "                result += chr(ord(text[i]) + ord(pw[i % len(pw)]))\n",
    "            else:\n",
    "                result += chr((ord(text[i]) + ord(pw[i % len(pw)])) %26 + ord('A'))\n",
    "            print(result)\n",
    "            print((ord(text[i]) + ord(pw[i % len(pw)])//90))\n",
    "    return result\n",
    "\n",
    "encrypted_text = encrypt(text, pw)\n",
    "print('Encrypted text:', encrypted_text)\n"
   ]
  },
  {
   "cell_type": "code",
   "execution_count": 14,
   "id": "5fc6a931",
   "metadata": {},
   "outputs": [
    {
     "data": {
      "text/plain": [
       "90"
      ]
     },
     "execution_count": 14,
     "metadata": {},
     "output_type": "execute_result"
    }
   ],
   "source": [
    "ord('Z')"
   ]
  },
  {
   "cell_type": "markdown",
   "id": "8a717eb7",
   "metadata": {},
   "source": [
    "b) Programmieren Sie die Entschlüsselung von Chiffretext und\n",
    "Passwort in Klartext! "
   ]
  },
  {
   "cell_type": "code",
   "execution_count": null,
   "id": "2220b98f",
   "metadata": {},
   "outputs": [],
   "source": []
  },
  {
   "cell_type": "markdown",
   "id": "35d8e3e3",
   "metadata": {},
   "source": [
    "c) Programmieren Sie im Rahmen der Kryptoanalyse einen „Known-Plaintext-Angriff“!\n",
    "Hierbei wird aus dem Klartext und dem Chiffretext das\n",
    "zugehörige Passwort ermittelt!\n"
   ]
  },
  {
   "cell_type": "code",
   "execution_count": null,
   "id": "03a0b0c4",
   "metadata": {},
   "outputs": [],
   "source": []
  },
  {
   "cell_type": "markdown",
   "id": "743abedc",
   "metadata": {},
   "source": [
    "d) Programmieren Sie im Rahmen der Kryptoanalyse einen\n",
    "„Probable-Plaintext-Angriff“!\n",
    "Dabei soll Ihr Programm einen Chiffretext ohne Passwort und\n",
    "ohne Klartext ermitteln, indem systematisch immer längere\n",
    "Passwörter geraten werden. Sie dürfen dabei einen Teil des\n",
    "Klartextes vorgeben (ansonsten können Sie nicht überprüfen, ob\n",
    "die Entschlüsselung erfolgreich ist) "
   ]
  },
  {
   "cell_type": "code",
   "execution_count": null,
   "id": "d7bec2db",
   "metadata": {},
   "outputs": [],
   "source": []
  }
 ],
 "metadata": {
  "kernelspec": {
   "display_name": "Python 3",
   "language": "python",
   "name": "python3"
  },
  "language_info": {
   "codemirror_mode": {
    "name": "ipython",
    "version": 3
   },
   "file_extension": ".py",
   "mimetype": "text/x-python",
   "name": "python",
   "nbconvert_exporter": "python",
   "pygments_lexer": "ipython3",
   "version": "3.11.9"
  }
 },
 "nbformat": 4,
 "nbformat_minor": 5
}
