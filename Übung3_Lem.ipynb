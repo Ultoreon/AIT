{
 "cells": [
  {
   "cell_type": "markdown",
   "id": "2eda64d1",
   "metadata": {},
   "source": [
    "# Aufgabe 1\n",
    "\n",
    "Die Fibonacci-Zahlenfolge ist so definiert, dass das nächste\n",
    "Folgenglied die Summe der beiden vorangegangenen ist:\n",
    "fibi+2 = fibi+1 + fibi\n",
    "Wenn beispielsweise fibi = 5 und fibi+1 = 8, so fibi+2 = 13.\n",
    "Programmieren Sie die Funktion „my_fib“ in Python, die die\n",
    "Folgenglieder als Numpy-Array ausgibt.\n",
    "Dabei sollten die ersten beiden Startwerte frei vorgegeben werden\n",
    "können. Als Default legen Sie fib0 = 0 und fib1 = 1 fest. Ebenso sollte die\n",
    "Anzahl der auszugebenden Elemente übergeben werden können. Hier\n",
    "ist der Default anzahl = 10 festzusetzen.\n"
   ]
  },
  {
   "cell_type": "code",
   "execution_count": 1,
   "id": "9ef16fe5",
   "metadata": {},
   "outputs": [
    {
     "name": "stdout",
     "output_type": "stream",
     "text": [
      "[ 15  15  30  45  75 120 195 315 510 825]\n"
     ]
    }
   ],
   "source": [
    "import numpy as np\n",
    "\n",
    "def my_fib(fib_0 = 0, fib_1 = 1, n = 10):\n",
    "    if n > 1:\n",
    "        fib_sequence = np.array([fib_0, fib_1])\n",
    "        \n",
    "        for i in range(2, n):\n",
    "            next_fib = fib_sequence[-1] + fib_sequence[-2]\n",
    "            fib_sequence = np.append(fib_sequence, next_fib)\n",
    "        return fib_sequence\n",
    "    else:\n",
    "        print(\"The number of Fibonacci numbers to generate must be greater than 1.\")\n",
    "\n",
    "print(my_fib(15, 15, 10))\n"
   ]
  },
  {
   "cell_type": "markdown",
   "id": "67178c7b",
   "metadata": {},
   "source": [
    "# Aufgabe 2\n",
    "\n",
    "Klären Sie mit einem Python-Programm, wie viele natürliche Zahlen\n",
    "zwischen Null und einer Million existieren, deren Ziffernsumme\n",
    "(Quersumme) 9 beträgt!"
   ]
  },
  {
   "cell_type": "code",
   "execution_count": 2,
   "id": "07be84fb",
   "metadata": {},
   "outputs": [
    {
     "name": "stdout",
     "output_type": "stream",
     "text": [
      "Anzahl an Zahlen mit der Quersumme 9 in 1 bis 1 MIO: 2002\n"
     ]
    }
   ],
   "source": [
    "\n",
    "Anz_Quersumme_9 = len(list(filter(lambda x: sum(int(ziffer) for ziffer in str(abs(x)))  ==  9, range(0,1000000))))\n",
    "print('Anzahl an Zahlen mit der Quersumme 9 in 1 bis 1 MIO:',Anz_Quersumme_9)"
   ]
  },
  {
   "cell_type": "code",
   "execution_count": 3,
   "id": "bfb6f4fb",
   "metadata": {},
   "outputs": [
    {
     "name": "stdout",
     "output_type": "stream",
     "text": [
      "Anzahl an Zahlen mit der Quersumme 9 in 1 bis 1 MIO: 2002\n"
     ]
    }
   ],
   "source": [
    "Quersumme_9 = 0\n",
    "for i in range(1,1000000):\n",
    "    # Quersumme berechnen\n",
    "    if sum(int(ziffer) for ziffer in str(abs(i)))  ==  9:\n",
    "        Quersumme_9 += 1\n",
    "        \n",
    "print('Anzahl an Zahlen mit der Quersumme 9 in 1 bis 1 MIO:',Quersumme_9)\n",
    "\n"
   ]
  },
  {
   "cell_type": "markdown",
   "id": "3efd6923",
   "metadata": {},
   "source": [
    "# Aufgabe 3 \n",
    "\n",
    "Programmieren Sie eine fortgeschrittene Version der FibonacciFunktion (vgl. Aufgabe 1) „my_advanced_fib“, bei der die Anzahl an\n",
    "Startelementen beliebig lang sein kann, was auch die Rekursion\n",
    "entsprechend vergrößert. Zum Beispiel gilt bei Vorgabe von 4 Werten:\n",
    "fibi+4 = fibi+3 + fibi+2 + fibi+1 + fibi\n",
    "„anzahl“ bleibt standardmäßig weiterhin auf 10, kann aber ebenfalls\n",
    "verändert werden.\n",
    "Fehlende Startwerte sollen als „0“ angenommen werden. "
   ]
  },
  {
   "cell_type": "code",
   "execution_count": 4,
   "id": "4453cd6e",
   "metadata": {},
   "outputs": [
    {
     "ename": "TypeError",
     "evalue": "my_advanced_fib() missing 1 required positional argument: 'startwerte'",
     "output_type": "error",
     "traceback": [
      "\u001b[1;31m---------------------------------------------------------------------------\u001b[0m",
      "\u001b[1;31mTypeError\u001b[0m                                 Traceback (most recent call last)",
      "Cell \u001b[1;32mIn[4], line 10\u001b[0m\n\u001b[0;32m      6\u001b[0m         seq[i] \u001b[38;5;241m=\u001b[39m \u001b[38;5;28msum\u001b[39m(seq[i\u001b[38;5;241m-\u001b[39mk:i])\n\u001b[0;32m      7\u001b[0m     \u001b[38;5;28;01mreturn\u001b[39;00m np\u001b[38;5;241m.\u001b[39marray(seq)\n\u001b[1;32m---> 10\u001b[0m \u001b[43mmy_advanced_fib\u001b[49m\u001b[43m(\u001b[49m\u001b[43m \u001b[49m\u001b[43m)\u001b[49m\n",
      "\u001b[1;31mTypeError\u001b[0m: my_advanced_fib() missing 1 required positional argument: 'startwerte'"
     ]
    }
   ],
   "source": [
    "def my_advanced_fib(startwerte, anzahl=10):\n",
    "\n",
    "    seq = list(startwerte) + [0] * max(0, anzahl - len(startwerte))\n",
    "    k = len(startwerte)\n",
    "    for i in range(len(startwerte), anzahl):\n",
    "        seq[i] = sum(seq[i-k:i])\n",
    "    return np.array(seq)\n",
    "\n",
    "\n",
    "my_advanced_fib( )"
   ]
  },
  {
   "cell_type": "markdown",
   "id": "46e941ed",
   "metadata": {},
   "source": [
    "# Aufgabe 4\n",
    "\n",
    "Ermitteln Sie (mittels List-Comprehension) eine Liste aller\n",
    "verschiedenen Würfel-Dreifachwürfe, die folgende Eigenschaften\n",
    "erfüllt: \n",
    "• Der Augenzahl des ersten Würfels ist kleiner gleich jener des\n",
    "zweiten, die wiederum kleiner gleich jener des dritten ist\n",
    "• Die Augenzahl des dritten Würfels ist NICHT gleich der Summe\n",
    "der beiden ersten Würfel\n",
    "• Die Gesamtsumme ist kleiner als 12"
   ]
  },
  {
   "cell_type": "code",
   "execution_count": null,
   "id": "4f58b388",
   "metadata": {},
   "outputs": [
    {
     "name": "stdout",
     "output_type": "stream",
     "text": [
      "Anzahl der Dreifachwürfe: [(1, 1, 1), (1, 1, 3), (1, 1, 4), (1, 1, 5), (1, 1, 6), (1, 2, 2), (1, 2, 4), (1, 2, 5), (1, 2, 6), (1, 3, 3), (1, 3, 5), (1, 3, 6), (1, 4, 4), (1, 4, 6), (1, 5, 5), (2, 2, 2), (2, 2, 3), (2, 2, 5), (2, 2, 6), (2, 3, 3), (2, 3, 4), (2, 3, 6), (2, 4, 4), (2, 4, 5), (3, 3, 3), (3, 3, 4), (3, 3, 5), (3, 4, 4)]\n"
     ]
    }
   ],
   "source": [
    "dreiffachwürfe = [(x,y,z) for x in range(1,7) for y in range(1,7) for z in range(1,7) if x<=y<=z and z != x+y and x+y+z < 12]\n",
    "print('Anzahl der Dreifachwürfe:', dreiffachwürfe)"
   ]
  },
  {
   "cell_type": "markdown",
   "id": "1ef60a9b",
   "metadata": {},
   "source": [
    "# Aufgabe 5:\n",
    "\n",
    "Ermitteln Sie numerisch (durch sehr viele Zufallsversuche in Python)\n",
    "die Wahrscheinlichkeit dafür,\n",
    "a) bei viermaligem Würfeln wenigstens eine 6 zu erhalten!\n",
    "b) bei 24 Doppelwürfen mindestens einen 6er-Pasch (2 mal 6\n",
    "Augen) zu erhalten\n",
    "Warum ist das Ergebnis nicht in beiden Fällen gleich?"
   ]
  },
  {
   "cell_type": "code",
   "execution_count": null,
   "id": "b63d796c",
   "metadata": {},
   "outputs": [
    {
     "name": "stdout",
     "output_type": "stream",
     "text": [
      "Wahrscheinlichkeit, dass bei 4 Würfen mindestens eine 6 geworfen wird: 0.517604\n"
     ]
    }
   ],
   "source": [
    "#a)\n",
    "import random\n",
    "\n",
    "def mind_eine_6(Anzahl):\n",
    "    Anzahl_mind_eine_6 = 0\n",
    "    for j in range(Anzahl):\n",
    "        for i in range(4):\n",
    "            if random.randint(1,6) == 6:\n",
    "                Anzahl_mind_eine_6 += 1\n",
    "                break\n",
    "    Wkeit = Anzahl_mind_eine_6 / Anzahl\n",
    "    return Wkeit             \n",
    "\n",
    "print('Wahrscheinlichkeit, dass bei 4 Würfen mindestens eine 6 geworfen wird:', mind_eine_6(1000000))"
   ]
  },
  {
   "cell_type": "code",
   "execution_count": null,
   "id": "a0e54b2e",
   "metadata": {},
   "outputs": [
    {
     "name": "stdout",
     "output_type": "stream",
     "text": [
      "Wahrscheinlichkeit, dass bei 24 Würfen mindestens ein 6er Pasch geworfen wird: 0.491493\n"
     ]
    }
   ],
   "source": [
    "#b)\n",
    "\n",
    "import random\n",
    "\n",
    "def min_ein_6er_pasch(Anzahl):\n",
    "    Anzahl_mind_ein_6er_pasch = 0\n",
    "    for j in range(Anzahl):\n",
    "        for i in range(24):\n",
    "            a = random.randint(1,6)\n",
    "            b = random.randint(1,6)\n",
    "            if  a == 6 and b == 6:\n",
    "                Anzahl_mind_ein_6er_pasch += 1\n",
    "                break\n",
    "    Wkeit = Anzahl_mind_ein_6er_pasch / Anzahl\n",
    "    return Wkeit\n",
    "\n",
    "print('Wahrscheinlichkeit, dass bei 24 Würfen mindestens ein 6er Pasch geworfen wird:', min_ein_6er_pasch(1000000))"
   ]
  },
  {
   "cell_type": "markdown",
   "id": "80a0ba31",
   "metadata": {},
   "source": [
    "# Aufgabe 6:\n",
    "\n",
    "Beim Lotto (6 aus 49) brachte bereits die 3016. Ausspielung dieselben\n",
    "Zahlen hervor (die Reihenfolge der gezogenen Kugeln wird dabei nicht\n",
    "berücksichtigt).\n",
    "Entwerfen Sie einen „Lotto-Simulator“ und stellen Sie fest, nach wie\n",
    "vielen Ziehungen im Mittel damit zu rechnen ist, dass sich eine\n",
    "Nummernkombination wiederholt. "
   ]
  },
  {
   "cell_type": "code",
   "execution_count": null,
   "id": "12033864",
   "metadata": {},
   "outputs": [
    {
     "name": "stdout",
     "output_type": "stream",
     "text": [
      "Lottosimulation: (15, 17, 23, 29, 31, 35)\n"
     ]
    }
   ],
   "source": [
    "import random\n",
    "import numpy as np\n",
    "\n",
    "def lottosim():\n",
    "    lottozahlen = np.array([],dtype=int)\n",
    "    while len(lottozahlen) < 6:\n",
    "        lottozahlen = np.append(lottozahlen, random.randint(1,49))\n",
    "    return tuple(sorted(lottozahlen))\t\n",
    "print('Lottosimulation:', lottosim())\n",
    "\n"
   ]
  },
  {
   "cell_type": "code",
   "execution_count": null,
   "id": "56edb09e",
   "metadata": {},
   "outputs": [
    {
     "name": "stdout",
     "output_type": "stream",
     "text": [
      "3205\n"
     ]
    }
   ],
   "source": [
    "def Anzahl_lotto_doppelt():\n",
    "    Lottoziehungen = []\n",
    "    Doppelt = False\n",
    "    while True:\n",
    "        Lottoziehung = lottosim()\n",
    "        if Lottoziehung in Lottoziehungen:\n",
    "            Doppelt = True\n",
    "            break\n",
    "        else:\n",
    "            Lottoziehungen.append(Lottoziehung)\n",
    "    return len(Lottoziehungen)\n",
    "\n",
    "print(Anzahl_lotto_doppelt())"
   ]
  },
  {
   "cell_type": "code",
   "execution_count": null,
   "id": "435c90a2",
   "metadata": {},
   "outputs": [
    {
     "name": "stdout",
     "output_type": "stream",
     "text": [
      "0\n",
      "1\n",
      "2\n",
      "3\n",
      "4\n",
      "5\n",
      "6\n",
      "7\n",
      "8\n",
      "9\n",
      "10\n",
      "11\n",
      "12\n",
      "13\n",
      "14\n",
      "15\n",
      "16\n",
      "17\n",
      "18\n",
      "19\n",
      "20\n",
      "21\n",
      "22\n",
      "23\n",
      "24\n",
      "25\n",
      "26\n",
      "27\n",
      "28\n",
      "29\n",
      "30\n",
      "31\n",
      "32\n",
      "33\n",
      "34\n",
      "35\n",
      "36\n",
      "37\n",
      "38\n",
      "39\n",
      "40\n",
      "41\n",
      "42\n",
      "43\n",
      "44\n",
      "45\n",
      "46\n",
      "47\n",
      "48\n",
      "49\n",
      "50\n",
      "51\n",
      "52\n",
      "53\n",
      "54\n",
      "55\n",
      "56\n",
      "57\n",
      "58\n",
      "59\n",
      "60\n",
      "61\n",
      "62\n",
      "63\n",
      "64\n",
      "65\n",
      "66\n",
      "67\n",
      "68\n",
      "69\n",
      "70\n",
      "71\n",
      "72\n",
      "73\n",
      "74\n",
      "75\n",
      "76\n",
      "77\n",
      "78\n",
      "79\n",
      "80\n",
      "81\n",
      "82\n",
      "83\n",
      "84\n",
      "85\n",
      "86\n",
      "87\n",
      "88\n",
      "89\n",
      "90\n",
      "91\n",
      "92\n",
      "93\n",
      "94\n",
      "95\n",
      "96\n",
      "97\n",
      "98\n",
      "99\n",
      "536.942\n"
     ]
    }
   ],
   "source": [
    "def Mittelwert_Lotto_Doppelt():\n",
    "    Mittelwert = 0\n",
    "    for i in range(100):\n",
    "        x = Anzahl_lotto_doppelt()\n",
    "        Mittelwert += x\n",
    "        print(i)\n",
    "    return Mittelwert/100\n",
    "\n",
    "print(Mittelwert_Lotto_Doppelt())"
   ]
  }
 ],
 "metadata": {
  "kernelspec": {
   "display_name": "Python 3",
   "language": "python",
   "name": "python3"
  },
  "language_info": {
   "codemirror_mode": {
    "name": "ipython",
    "version": 3
   },
   "file_extension": ".py",
   "mimetype": "text/x-python",
   "name": "python",
   "nbconvert_exporter": "python",
   "pygments_lexer": "ipython3",
   "version": "3.11.9"
  }
 },
 "nbformat": 4,
 "nbformat_minor": 5
}
