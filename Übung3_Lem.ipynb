{
 "cells": [
  {
   "cell_type": "markdown",
   "id": "2eda64d1",
   "metadata": {},
   "source": [
    "# Aufgabe 1\n",
    "\n",
    "Die Fibonacci-Zahlenfolge ist so definiert, dass das nächste\n",
    "Folgenglied die Summe der beiden vorangegangenen ist:\n",
    "fibi+2 = fibi+1 + fibi\n",
    "Wenn beispielsweise fibi = 5 und fibi+1 = 8, so fibi+2 = 13.\n",
    "Programmieren Sie die Funktion „my_fib“ in Python, die die\n",
    "Folgenglieder als Numpy-Array ausgibt.\n",
    "Dabei sollten die ersten beiden Startwerte frei vorgegeben werden\n",
    "können. Als Default legen Sie fib0 = 0 und fib1 = 1 fest. Ebenso sollte die\n",
    "Anzahl der auszugebenden Elemente übergeben werden können. Hier\n",
    "ist der Default anzahl = 10 festzusetzen.\n"
   ]
  },
  {
   "cell_type": "code",
   "execution_count": 12,
   "id": "9ef16fe5",
   "metadata": {},
   "outputs": [
    {
     "name": "stdout",
     "output_type": "stream",
     "text": [
      "[ 15  15  30  45  75 120 195 315 510 825]\n"
     ]
    }
   ],
   "source": [
    "import numpy as np\n",
    "\n",
    "def my_fib(fib_0 = 0, fib_1 = 1, n = 10):\n",
    "    if n > 1:\n",
    "        fib_sequence = np.array([fib_0, fib_1])\n",
    "        \n",
    "        for i in range(2, n):\n",
    "            next_fib = fib_sequence[-1] + fib_sequence[-2]\n",
    "            fib_sequence = np.append(fib_sequence, next_fib)\n",
    "        return fib_sequence\n",
    "    else:\n",
    "        print(\"The number of Fibonacci numbers to generate must be greater than 1.\")\n",
    "\n",
    "print(my_fib(15, 15, 10))\n"
   ]
  },
  {
   "cell_type": "markdown",
   "id": "67178c7b",
   "metadata": {},
   "source": [
    "# Aufgabe 2\n",
    "\n",
    "Klären Sie mit einem Python-Programm, wie viele natürliche Zahlen\n",
    "zwischen Null und einer Million existieren, deren Ziffernsumme\n",
    "(Quersumme) 9 beträgt!"
   ]
  },
  {
   "cell_type": "code",
   "execution_count": null,
   "id": "07be84fb",
   "metadata": {},
   "outputs": [
    {
     "name": "stdout",
     "output_type": "stream",
     "text": [
      "Anzahl an Zahlen mit der Quersumme 9 in 1 bis 1 MIO: 2002\n"
     ]
    }
   ],
   "source": [
    "\n",
    "Anz_Quersumme_9 = len(list(filter(lambda x: sum(int(ziffer) for ziffer in str(abs(x)))  ==  9 ,range(1,1000000))))\n",
    "print('Anzahl an Zahlen mit der Quersumme 9 in 1 bis 1 MIO:',Anz_Quersumme_9)"
   ]
  },
  {
   "cell_type": "code",
   "execution_count": null,
   "id": "bfb6f4fb",
   "metadata": {},
   "outputs": [
    {
     "name": "stdout",
     "output_type": "stream",
     "text": [
      "Anzahl an Zahlen mit der Quersumme 9 in 1 bis 1 MIO: 2002\n"
     ]
    }
   ],
   "source": [
    "Quersumme_9 = 0\n",
    "for i in range(1,1000000):\n",
    "    # Quersumme berechnen\n",
    "    if sum(int(ziffer) for ziffer in str(abs(i)))  ==  9:\n",
    "        Quersumme_9 += 1\n",
    "        \n",
    "print('Anzahl an Zahlen mit der Quersumme 9 in 1 bis 1 MIO:',Quersumme_9)\n",
    "\n"
   ]
  },
  {
   "cell_type": "markdown",
   "id": "3efd6923",
   "metadata": {},
   "source": [
    "# Aufgabe 3 \n",
    "\n",
    "Programmieren Sie eine fortgeschrittene Version der FibonacciFunktion (vgl. Aufgabe 1) „my_advanced_fib“, bei der die Anzahl an\n",
    "Startelementen beliebig lang sein kann, was auch die Rekursion\n",
    "entsprechend vergrößert. Zum Beispiel gilt bei Vorgabe von 4 Werten:\n",
    "fibi+4 = fibi+3 + fibi+2 + fibi+1 + fibi\n",
    "„anzahl“ bleibt standardmäßig weiterhin auf 10, kann aber ebenfalls\n",
    "verändert werden.\n",
    "Fehlende Startwerte sollen als „0“ angenommen werden. "
   ]
  },
  {
   "cell_type": "code",
   "execution_count": 42,
   "id": "4453cd6e",
   "metadata": {},
   "outputs": [
    {
     "ename": "TypeError",
     "evalue": "my_advanced_fib() missing 1 required positional argument: 'startwerte'",
     "output_type": "error",
     "traceback": [
      "\u001b[1;31m---------------------------------------------------------------------------\u001b[0m",
      "\u001b[1;31mTypeError\u001b[0m                                 Traceback (most recent call last)",
      "Cell \u001b[1;32mIn[42], line 10\u001b[0m\n\u001b[0;32m      6\u001b[0m         seq[i] \u001b[38;5;241m=\u001b[39m \u001b[38;5;28msum\u001b[39m(seq[i\u001b[38;5;241m-\u001b[39mk:i])\n\u001b[0;32m      7\u001b[0m     \u001b[38;5;28;01mreturn\u001b[39;00m np\u001b[38;5;241m.\u001b[39marray(seq)\n\u001b[1;32m---> 10\u001b[0m \u001b[43mmy_advanced_fib\u001b[49m\u001b[43m(\u001b[49m\u001b[43m \u001b[49m\u001b[43m)\u001b[49m\n",
      "\u001b[1;31mTypeError\u001b[0m: my_advanced_fib() missing 1 required positional argument: 'startwerte'"
     ]
    }
   ],
   "source": [
    "def my_advanced_fib(startwerte, anzahl=10):\n",
    "\n",
    "    seq = list(startwerte) + [0] * max(0, anzahl - len(startwerte))\n",
    "    k = len(startwerte)\n",
    "    for i in range(len(startwerte), anzahl):\n",
    "        seq[i] = sum(seq[i-k:i])\n",
    "    return np.array(seq)\n",
    "\n",
    "\n",
    "my_advanced_fib( )"
   ]
  },
  {
   "cell_type": "markdown",
   "id": "46e941ed",
   "metadata": {},
   "source": [
    "# Aufgabe 4\n",
    "\n",
    "Ermitteln Sie (mittels List-Comprehension) eine Liste aller\n",
    "verschiedenen Würfel-Dreifachwürfe, die folgende Eigenschaften\n",
    "erfüllt: \n",
    "• Der Augenzahl des ersten Würfels ist kleiner gleich jener des\n",
    "zweiten, die wiederum kleiner gleich jener des dritten ist\n",
    "• Die Augenzahl des dritten Würfels ist NICHT gleich der Summe\n",
    "der beiden ersten Würfel\n",
    "• Die Gesamtsumme ist kleiner als 12"
   ]
  },
  {
   "cell_type": "code",
   "execution_count": 51,
   "id": "4f58b388",
   "metadata": {},
   "outputs": [
    {
     "name": "stdout",
     "output_type": "stream",
     "text": [
      "Anzahl der Dreifachwürfe: [(1, 1, 2), (1, 2, 3), (1, 3, 4), (1, 4, 5), (2, 2, 4), (2, 3, 5)]\n"
     ]
    }
   ],
   "source": [
    "dreiffachwürfe = [(x,y,z) for x in range(1,7) for y in range(1,7) for z in range(1,7) if x<=y<=z and z == x+y and x+y+z < 12]\n",
    "print('Anzahl der Dreifachwürfe:', dreiffachwürfe)"
   ]
  },
  {
   "cell_type": "markdown",
   "id": "1ef60a9b",
   "metadata": {},
   "source": [
    "# Aufgabe 5:\n",
    "\n",
    "Ermitteln Sie numerisch (durch sehr viele Zufallsversuche in Python)\n",
    "die Wahrscheinlichkeit dafür,\n",
    "a) bei viermaligem Würfeln wenigstens eine 6 zu erhalten!\n",
    "b) bei 24 Doppelwürfen mindestens einen 6er-Pasch (2 mal 6\n",
    "Augen) zu erhalten\n",
    "Warum ist das Ergebnis nicht in beiden Fällen gleich?"
   ]
  },
  {
   "cell_type": "code",
   "execution_count": 53,
   "id": "b63d796c",
   "metadata": {},
   "outputs": [
    {
     "ename": "TypeError",
     "evalue": "'module' object is not callable",
     "output_type": "error",
     "traceback": [
      "\u001b[1;31m---------------------------------------------------------------------------\u001b[0m",
      "\u001b[1;31mTypeError\u001b[0m                                 Traceback (most recent call last)",
      "Cell \u001b[1;32mIn[53], line 13\u001b[0m\n\u001b[0;32m     10\u001b[0m     Wkeit \u001b[38;5;241m=\u001b[39m Anzahl_mind_eine_6 \u001b[38;5;241m/\u001b[39m Anzahl\n\u001b[0;32m     11\u001b[0m     \u001b[38;5;28;01mreturn\u001b[39;00m Wkeit             \n\u001b[1;32m---> 13\u001b[0m \u001b[38;5;28mprint\u001b[39m(\u001b[38;5;124m'\u001b[39m\u001b[38;5;124mWahrscheinlichkeit, dass bei 4 Würfen mindestens eine 6 geworfen wird:\u001b[39m\u001b[38;5;124m'\u001b[39m, \u001b[43mmind_eine_6\u001b[49m\u001b[43m(\u001b[49m\u001b[38;5;241;43m1000000\u001b[39;49m\u001b[43m)\u001b[49m)\n",
      "Cell \u001b[1;32mIn[53], line 7\u001b[0m, in \u001b[0;36mmind_eine_6\u001b[1;34m(Anzahl)\u001b[0m\n\u001b[0;32m      5\u001b[0m \u001b[38;5;28;01mfor\u001b[39;00m j \u001b[38;5;129;01min\u001b[39;00m \u001b[38;5;28mrange\u001b[39m(Anzahl):\n\u001b[0;32m      6\u001b[0m     \u001b[38;5;28;01mfor\u001b[39;00m i \u001b[38;5;129;01min\u001b[39;00m \u001b[38;5;28mrange\u001b[39m(\u001b[38;5;241m4\u001b[39m):\n\u001b[1;32m----> 7\u001b[0m         \u001b[38;5;28;01mif\u001b[39;00m \u001b[43mrandom\u001b[49m\u001b[43m(\u001b[49m\u001b[38;5;241;43m1\u001b[39;49m\u001b[43m,\u001b[49m\u001b[38;5;241;43m6\u001b[39;49m\u001b[43m)\u001b[49m \u001b[38;5;241m==\u001b[39m \u001b[38;5;241m6\u001b[39m:\n\u001b[0;32m      8\u001b[0m             Anzahl_mind_eine_6 \u001b[38;5;241m+\u001b[39m\u001b[38;5;241m=\u001b[39m \u001b[38;5;241m1\u001b[39m\n\u001b[0;32m      9\u001b[0m             \u001b[38;5;28;01mbreak\u001b[39;00m\n",
      "\u001b[1;31mTypeError\u001b[0m: 'module' object is not callable"
     ]
    }
   ],
   "source": [
    "import random\n",
    "\n",
    "def mind_eine_6(Anzahl):\n",
    "    Anzahl_mind_eine_6 = 0\n",
    "    for j in range(Anzahl):\n",
    "        for i in range(4):\n",
    "            if random(1,6) == 6:\n",
    "                Anzahl_mind_eine_6 += 1\n",
    "                break\n",
    "    Wkeit = Anzahl_mind_eine_6 / Anzahl\n",
    "    return Wkeit             \n",
    "\n",
    "print('Wahrscheinlichkeit, dass bei 4 Würfen mindestens eine 6 geworfen wird:', mind_eine_6(1000000))"
   ]
  },
  {
   "cell_type": "markdown",
   "id": "80a0ba31",
   "metadata": {},
   "source": [
    "# Aufgabe 6:\n",
    "\n",
    "Beim Lotto (6 aus 49) brachte bereits die 3016. Ausspielung dieselben\n",
    "Zahlen hervor (die Reihenfolge der gezogenen Kugeln wird dabei nicht\n",
    "berücksichtigt).\n",
    "Entwerfen Sie einen „Lotto-Simulator“ und stellen Sie fest, nach wie\n",
    "vielen Ziehungen im Mittel damit zu rechnen ist, dass sich eine\n",
    "Nummernkombination wiederholt. "
   ]
  },
  {
   "cell_type": "code",
   "execution_count": null,
   "id": "12033864",
   "metadata": {},
   "outputs": [],
   "source": []
  }
 ],
 "metadata": {
  "kernelspec": {
   "display_name": "Python 3",
   "language": "python",
   "name": "python3"
  },
  "language_info": {
   "codemirror_mode": {
    "name": "ipython",
    "version": 3
   },
   "file_extension": ".py",
   "mimetype": "text/x-python",
   "name": "python",
   "nbconvert_exporter": "python",
   "pygments_lexer": "ipython3",
   "version": "3.11.9"
  }
 },
 "nbformat": 4,
 "nbformat_minor": 5
}
